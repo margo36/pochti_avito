{
 "cells": [
  {
   "cell_type": "markdown",
   "id": "ad28a4b5",
   "metadata": {},
   "source": [
    "# Выделение групп пользователей на основе поведения в мобильном приложении \"Ненужные вещи\""
   ]
  },
  {
   "cell_type": "markdown",
   "id": "bdf4d7ef",
   "metadata": {},
   "source": [
    "## 1. Загрузка файлов с данными"
   ]
  },
  {
   "cell_type": "code",
   "execution_count": 1,
   "id": "85b0172b",
   "metadata": {},
   "outputs": [],
   "source": [
    "# импортирую библиотеки\n",
    "import pandas as pd\n",
    "import matplotlib.pyplot as plt\n",
    "import seaborn as sns\n",
    "import numpy as np\n",
    "from datetime import datetime, timedelta\n",
    "from scipy import stats as st\n",
    "import math as mth"
   ]
  },
  {
   "cell_type": "markdown",
   "id": "b9eba60e",
   "metadata": {},
   "source": [
    "## 2. Предобработка данных"
   ]
  },
  {
   "cell_type": "markdown",
   "id": "e8d6af90",
   "metadata": {},
   "source": [
    "### 2.1. Данные об источниках"
   ]
  },
  {
   "cell_type": "code",
   "execution_count": 3,
   "id": "e5240c8f",
   "metadata": {},
   "outputs": [],
   "source": [
    "# напишу функцию базовых проверок: вывод на экран, общая информация, явные дубликаты\n",
    "def df_info (data):\n",
    "    display(data.head())\n",
    "    display(data.info())\n",
    "    display(data.duplicated().sum())"
   ]
  },
  {
   "cell_type": "code",
   "execution_count": 4,
   "id": "2b8a9ff8",
   "metadata": {
    "scrolled": false
   },
   "outputs": [
    {
     "data": {
      "text/html": [
       "<div>\n",
       "<style scoped>\n",
       "    .dataframe tbody tr th:only-of-type {\n",
       "        vertical-align: middle;\n",
       "    }\n",
       "\n",
       "    .dataframe tbody tr th {\n",
       "        vertical-align: top;\n",
       "    }\n",
       "\n",
       "    .dataframe thead th {\n",
       "        text-align: right;\n",
       "    }\n",
       "</style>\n",
       "<table border=\"1\" class=\"dataframe\">\n",
       "  <thead>\n",
       "    <tr style=\"text-align: right;\">\n",
       "      <th></th>\n",
       "      <th>userId</th>\n",
       "      <th>source</th>\n",
       "    </tr>\n",
       "  </thead>\n",
       "  <tbody>\n",
       "    <tr>\n",
       "      <th>0</th>\n",
       "      <td>020292ab-89bc-4156-9acf-68bc2783f894</td>\n",
       "      <td>other</td>\n",
       "    </tr>\n",
       "    <tr>\n",
       "      <th>1</th>\n",
       "      <td>cf7eda61-9349-469f-ac27-e5b6f5ec475c</td>\n",
       "      <td>yandex</td>\n",
       "    </tr>\n",
       "    <tr>\n",
       "      <th>2</th>\n",
       "      <td>8c356c42-3ba9-4cb6-80b8-3f868d0192c3</td>\n",
       "      <td>yandex</td>\n",
       "    </tr>\n",
       "    <tr>\n",
       "      <th>3</th>\n",
       "      <td>d9b06b47-0f36-419b-bbb0-3533e582a6cb</td>\n",
       "      <td>other</td>\n",
       "    </tr>\n",
       "    <tr>\n",
       "      <th>4</th>\n",
       "      <td>f32e1e2a-3027-4693-b793-b7b3ff274439</td>\n",
       "      <td>google</td>\n",
       "    </tr>\n",
       "  </tbody>\n",
       "</table>\n",
       "</div>"
      ],
      "text/plain": [
       "                                 userId  source\n",
       "0  020292ab-89bc-4156-9acf-68bc2783f894   other\n",
       "1  cf7eda61-9349-469f-ac27-e5b6f5ec475c  yandex\n",
       "2  8c356c42-3ba9-4cb6-80b8-3f868d0192c3  yandex\n",
       "3  d9b06b47-0f36-419b-bbb0-3533e582a6cb   other\n",
       "4  f32e1e2a-3027-4693-b793-b7b3ff274439  google"
      ]
     },
     "metadata": {},
     "output_type": "display_data"
    },
    {
     "name": "stdout",
     "output_type": "stream",
     "text": [
      "<class 'pandas.core.frame.DataFrame'>\n",
      "RangeIndex: 4293 entries, 0 to 4292\n",
      "Data columns (total 2 columns):\n",
      " #   Column  Non-Null Count  Dtype \n",
      "---  ------  --------------  ----- \n",
      " 0   userId  4293 non-null   object\n",
      " 1   source  4293 non-null   object\n",
      "dtypes: object(2)\n",
      "memory usage: 67.2+ KB\n"
     ]
    },
    {
     "data": {
      "text/plain": [
       "None"
      ]
     },
     "metadata": {},
     "output_type": "display_data"
    },
    {
     "data": {
      "text/plain": [
       "0"
      ]
     },
     "metadata": {},
     "output_type": "display_data"
    }
   ],
   "source": [
    "# изучу информацию данных об источниках\n",
    "df_info (mobile_sourсes)"
   ]
  },
  {
   "cell_type": "markdown",
   "id": "7405fce2",
   "metadata": {},
   "source": [
    "Изучив полученную информацию можно сказать следующее:\n",
    "    \n",
    "- Наименование столбца `userId` некорректное, слудует привести его в соответвии со стилем кода.\n",
    "- Явных дубликатов нет.\n",
    "- Типы данных столбцов приемлемы.\n",
    "- В данных пропусков нет."
   ]
  },
  {
   "cell_type": "code",
   "execution_count": 5,
   "id": "a6804995",
   "metadata": {},
   "outputs": [],
   "source": [
    "# привожу наименование столбца в корректный вид\n",
    "mobile_sourсes = mobile_sourсes.rename(columns = {'userId':'user_id'})"
   ]
  },
  {
   "cell_type": "markdown",
   "id": "0dc89c31",
   "metadata": {},
   "source": [
    "### 2.2. Данные о событиях"
   ]
  },
  {
   "cell_type": "code",
   "execution_count": 6,
   "id": "84c91100",
   "metadata": {},
   "outputs": [
    {
     "data": {
      "text/html": [
       "<div>\n",
       "<style scoped>\n",
       "    .dataframe tbody tr th:only-of-type {\n",
       "        vertical-align: middle;\n",
       "    }\n",
       "\n",
       "    .dataframe tbody tr th {\n",
       "        vertical-align: top;\n",
       "    }\n",
       "\n",
       "    .dataframe thead th {\n",
       "        text-align: right;\n",
       "    }\n",
       "</style>\n",
       "<table border=\"1\" class=\"dataframe\">\n",
       "  <thead>\n",
       "    <tr style=\"text-align: right;\">\n",
       "      <th></th>\n",
       "      <th>event.time</th>\n",
       "      <th>event.name</th>\n",
       "      <th>user.id</th>\n",
       "    </tr>\n",
       "  </thead>\n",
       "  <tbody>\n",
       "    <tr>\n",
       "      <th>0</th>\n",
       "      <td>2019-10-07 00:00:00.431357</td>\n",
       "      <td>advert_open</td>\n",
       "      <td>020292ab-89bc-4156-9acf-68bc2783f894</td>\n",
       "    </tr>\n",
       "    <tr>\n",
       "      <th>1</th>\n",
       "      <td>2019-10-07 00:00:01.236320</td>\n",
       "      <td>tips_show</td>\n",
       "      <td>020292ab-89bc-4156-9acf-68bc2783f894</td>\n",
       "    </tr>\n",
       "    <tr>\n",
       "      <th>2</th>\n",
       "      <td>2019-10-07 00:00:02.245341</td>\n",
       "      <td>tips_show</td>\n",
       "      <td>cf7eda61-9349-469f-ac27-e5b6f5ec475c</td>\n",
       "    </tr>\n",
       "    <tr>\n",
       "      <th>3</th>\n",
       "      <td>2019-10-07 00:00:07.039334</td>\n",
       "      <td>tips_show</td>\n",
       "      <td>020292ab-89bc-4156-9acf-68bc2783f894</td>\n",
       "    </tr>\n",
       "    <tr>\n",
       "      <th>4</th>\n",
       "      <td>2019-10-07 00:00:56.319813</td>\n",
       "      <td>advert_open</td>\n",
       "      <td>cf7eda61-9349-469f-ac27-e5b6f5ec475c</td>\n",
       "    </tr>\n",
       "  </tbody>\n",
       "</table>\n",
       "</div>"
      ],
      "text/plain": [
       "                   event.time   event.name  \\\n",
       "0  2019-10-07 00:00:00.431357  advert_open   \n",
       "1  2019-10-07 00:00:01.236320    tips_show   \n",
       "2  2019-10-07 00:00:02.245341    tips_show   \n",
       "3  2019-10-07 00:00:07.039334    tips_show   \n",
       "4  2019-10-07 00:00:56.319813  advert_open   \n",
       "\n",
       "                                user.id  \n",
       "0  020292ab-89bc-4156-9acf-68bc2783f894  \n",
       "1  020292ab-89bc-4156-9acf-68bc2783f894  \n",
       "2  cf7eda61-9349-469f-ac27-e5b6f5ec475c  \n",
       "3  020292ab-89bc-4156-9acf-68bc2783f894  \n",
       "4  cf7eda61-9349-469f-ac27-e5b6f5ec475c  "
      ]
     },
     "metadata": {},
     "output_type": "display_data"
    },
    {
     "name": "stdout",
     "output_type": "stream",
     "text": [
      "<class 'pandas.core.frame.DataFrame'>\n",
      "RangeIndex: 74197 entries, 0 to 74196\n",
      "Data columns (total 3 columns):\n",
      " #   Column      Non-Null Count  Dtype \n",
      "---  ------      --------------  ----- \n",
      " 0   event.time  74197 non-null  object\n",
      " 1   event.name  74197 non-null  object\n",
      " 2   user.id     74197 non-null  object\n",
      "dtypes: object(3)\n",
      "memory usage: 1.7+ MB\n"
     ]
    },
    {
     "data": {
      "text/plain": [
       "None"
      ]
     },
     "metadata": {},
     "output_type": "display_data"
    },
    {
     "data": {
      "text/plain": [
       "0"
      ]
     },
     "metadata": {},
     "output_type": "display_data"
    }
   ],
   "source": [
    "# изучу информацию данных о событиях\n",
    "df_info (mobile_dataset)"
   ]
  },
  {
   "cell_type": "markdown",
   "id": "02ef3aba",
   "metadata": {},
   "source": [
    "Изучив полученную информацию можно сказать следующее:\n",
    "    \n",
    "- Наименования столбцов `event.time`, `event.name`, `user.id` некорректные, слудует привести их в соответвии со стилем кода.\n",
    "- Явных дубликатов нет.\n",
    "- Типы данных столбца `event.time` необходимо привести к типу даты.\n",
    "- В данных нет пропусков."
   ]
  },
  {
   "cell_type": "code",
   "execution_count": 7,
   "id": "23fae22f",
   "metadata": {},
   "outputs": [],
   "source": [
    "# изменяю наименование некоторых столюцов\n",
    "mobile_dataset.columns = ['event_time', 'event_name', 'user_id']\n",
    "\n",
    "# преобразовываю данные о времени в необходимый для работы тип\n",
    "#mobile_dataset['event_time'] = pd.to_datetime(mobile_dataset['event_time']).astype('datetime64[s]')\n",
    "mobile_dataset['event_time'] = pd.to_datetime(mobile_dataset['event_time'])"
   ]
  },
  {
   "cell_type": "markdown",
   "id": "9b79931e",
   "metadata": {},
   "source": [
    "В датасете встречаются одинаковые события с разными наименованиями. Для корректной анализа данных необходимо привети названия событий в нормальное состояние."
   ]
  },
  {
   "cell_type": "code",
   "execution_count": 8,
   "id": "89b3c3d9",
   "metadata": {},
   "outputs": [
    {
     "data": {
      "text/plain": [
       "['advert_open',\n",
       " 'contacts_call',\n",
       " 'favorites_add',\n",
       " 'map',\n",
       " 'photos_show',\n",
       " 'search',\n",
       " 'show_contacts',\n",
       " 'tips_click',\n",
       " 'tips_show']"
      ]
     },
     "execution_count": 8,
     "metadata": {},
     "output_type": "execute_result"
    }
   ],
   "source": [
    "# переименую повторяющиеся наименования событий\n",
    "mobile_dataset['event_name'] = mobile_dataset['event_name'].str.replace('contacts_show', 'show_contacts', regex=True)\n",
    "mobile_dataset = mobile_dataset.replace(['search_1', 'search_2', 'search_3', 'search_4', 'search_5', 'search_6', 'search_7'], 'search')\n",
    "sorted(mobile_dataset['event_name'].unique())"
   ]
  },
  {
   "cell_type": "markdown",
   "id": "f4c7b30d",
   "metadata": {},
   "source": [
    "### 2.3. Объединение таблиц"
   ]
  },
  {
   "cell_type": "code",
   "execution_count": 9,
   "id": "c8ae4097",
   "metadata": {},
   "outputs": [
    {
     "name": "stdout",
     "output_type": "stream",
     "text": [
      "<class 'pandas.core.frame.DataFrame'>\n",
      "Int64Index: 74197 entries, 0 to 74196\n",
      "Data columns (total 4 columns):\n",
      " #   Column      Non-Null Count  Dtype         \n",
      "---  ------      --------------  -----         \n",
      " 0   user_id     74197 non-null  object        \n",
      " 1   source      74197 non-null  object        \n",
      " 2   event_time  74197 non-null  datetime64[ns]\n",
      " 3   event_name  74197 non-null  object        \n",
      "dtypes: datetime64[ns](1), object(3)\n",
      "memory usage: 2.8+ MB\n"
     ]
    }
   ],
   "source": [
    "# объединю две таблицы\n",
    "df = pd.merge(mobile_sourсes, mobile_dataset, on='user_id', how='outer')\n",
    "df.info()"
   ]
  },
  {
   "cell_type": "code",
   "execution_count": 10,
   "id": "4994c0b9",
   "metadata": {},
   "outputs": [
    {
     "name": "stdout",
     "output_type": "stream",
     "text": [
      "В таблице данные за период с 2019-10-07 00:00:00.431357 по 2019-11-03 23:58:12.532487\n"
     ]
    }
   ],
   "source": [
    "# определю максимальную и минимальную даты\n",
    "min_date = df['event_time'].min()\n",
    "max_date = df['event_time'].max()\n",
    "print(f'В таблице данные за период с {min_date} по {max_date}')"
   ]
  },
  {
   "cell_type": "markdown",
   "id": "bb6a2635",
   "metadata": {},
   "source": [
    "**ОБЩИЙ ВЫВОД ПО РАЗДЕЛУ:**\n",
    "В таблице `mobile_sourсes` наименование столбца `userId` некорректное, слудует привести его в соответвии со стилем кода.\n",
    "В таблице `mobile_dataset` наименования столбцов `event.time`, `event.name`, `ser.id` некорректные, слудует привести их в соответвии со стилем кода. Также типы данных столбца `event.time` необходимо привести к типу даты. **Выполнены все преобразования и данные приведены в нормальное состояние**\n",
    "    \n",
    "Явных дубликатов нет, пропусков нет. В датасете встречаются одинаковые события с разными наименованиями. Для корректного анализа данных названия этих событий изменены.\n",
    "\n",
    "Данные за период с 2019-10-07 00:00:00 по 2019-11-03 23:58:12"
   ]
  },
  {
   "cell_type": "markdown",
   "id": "a46d39d2",
   "metadata": {},
   "source": [
    "## 3. Исследовательский анализ данных"
   ]
  },
  {
   "cell_type": "markdown",
   "id": "fd47a20d",
   "metadata": {},
   "source": [
    "### 3.1. Retention Rate."
   ]
  },
  {
   "cell_type": "code",
   "execution_count": 11,
   "id": "2940a760",
   "metadata": {},
   "outputs": [
    {
     "data": {
      "text/html": [
       "<div>\n",
       "<style scoped>\n",
       "    .dataframe tbody tr th:only-of-type {\n",
       "        vertical-align: middle;\n",
       "    }\n",
       "\n",
       "    .dataframe tbody tr th {\n",
       "        vertical-align: top;\n",
       "    }\n",
       "\n",
       "    .dataframe thead th {\n",
       "        text-align: right;\n",
       "    }\n",
       "</style>\n",
       "<table border=\"1\" class=\"dataframe\">\n",
       "  <thead>\n",
       "    <tr style=\"text-align: right;\">\n",
       "      <th></th>\n",
       "      <th>user_id</th>\n",
       "      <th>first_time</th>\n",
       "      <th>show</th>\n",
       "      <th>source</th>\n",
       "      <th>event_time</th>\n",
       "      <th>event_name</th>\n",
       "    </tr>\n",
       "  </thead>\n",
       "  <tbody>\n",
       "    <tr>\n",
       "      <th>0</th>\n",
       "      <td>0001b1d5-b74a-4cbf-aeb0-7df5947bf349</td>\n",
       "      <td>2019-10-07 13:39:45.989359</td>\n",
       "      <td>False</td>\n",
       "      <td>other</td>\n",
       "      <td>2019-10-07 13:39:45.989359</td>\n",
       "      <td>tips_show</td>\n",
       "    </tr>\n",
       "    <tr>\n",
       "      <th>1</th>\n",
       "      <td>0001b1d5-b74a-4cbf-aeb0-7df5947bf349</td>\n",
       "      <td>2019-10-07 13:39:45.989359</td>\n",
       "      <td>False</td>\n",
       "      <td>other</td>\n",
       "      <td>2019-10-07 13:40:31.052909</td>\n",
       "      <td>tips_show</td>\n",
       "    </tr>\n",
       "  </tbody>\n",
       "</table>\n",
       "</div>"
      ],
      "text/plain": [
       "                                user_id                 first_time   show  \\\n",
       "0  0001b1d5-b74a-4cbf-aeb0-7df5947bf349 2019-10-07 13:39:45.989359  False   \n",
       "1  0001b1d5-b74a-4cbf-aeb0-7df5947bf349 2019-10-07 13:39:45.989359  False   \n",
       "\n",
       "  source                 event_time event_name  \n",
       "0  other 2019-10-07 13:39:45.989359  tips_show  \n",
       "1  other 2019-10-07 13:40:31.052909  tips_show  "
      ]
     },
     "execution_count": 11,
     "metadata": {},
     "output_type": "execute_result"
    }
   ],
   "source": [
    "# создаю профели пользователей\n",
    "profiles = (\n",
    "        df.sort_values(by=['user_id', 'event_time'])\n",
    "        .groupby('user_id')\n",
    "        .agg({'event_time': 'first'})\n",
    "        .rename(columns={'event_time': 'first_time'})\n",
    "        .reset_index()\n",
    "    )\n",
    "#profiles['first_time'] = profiles['first_time'].dt.date\n",
    "#profiles['first_month'] = profiles['first_time'].astype('datetime64[M]')\n",
    "show_contacts = df.query('event_name == \"show_contacts\"')['user_id'].reset_index()\n",
    "profiles['show'] = profiles['user_id'].isin(show_contacts['user_id'].unique())\n",
    "profiles = profiles.merge(df, on='user_id', how='left')\n",
    "#profiles['event_time'] = profiles['event_time'].dt.date\n",
    "\n",
    "profiles.head(2)"
   ]
  },
  {
   "cell_type": "code",
   "execution_count": 12,
   "id": "352fa480",
   "metadata": {
    "scrolled": true
   },
   "outputs": [
    {
     "data": {
      "text/html": [
       "<div>\n",
       "<style scoped>\n",
       "    .dataframe tbody tr th:only-of-type {\n",
       "        vertical-align: middle;\n",
       "    }\n",
       "\n",
       "    .dataframe tbody tr th {\n",
       "        vertical-align: top;\n",
       "    }\n",
       "\n",
       "    .dataframe thead th {\n",
       "        text-align: right;\n",
       "    }\n",
       "</style>\n",
       "<table border=\"1\" class=\"dataframe\">\n",
       "  <thead>\n",
       "    <tr style=\"text-align: right;\">\n",
       "      <th></th>\n",
       "      <th>user_id</th>\n",
       "      <th>first_time</th>\n",
       "      <th>show</th>\n",
       "      <th>source</th>\n",
       "      <th>event_time</th>\n",
       "      <th>event_name</th>\n",
       "      <th>activ_week</th>\n",
       "      <th>first_week</th>\n",
       "    </tr>\n",
       "  </thead>\n",
       "  <tbody>\n",
       "    <tr>\n",
       "      <th>0</th>\n",
       "      <td>0001b1d5-b74a-4cbf-aeb0-7df5947bf349</td>\n",
       "      <td>2019-10-07 13:39:45.989359</td>\n",
       "      <td>False</td>\n",
       "      <td>other</td>\n",
       "      <td>2019-10-07 13:39:45.989359</td>\n",
       "      <td>tips_show</td>\n",
       "      <td>2019-10-07</td>\n",
       "      <td>2019-10-07</td>\n",
       "    </tr>\n",
       "    <tr>\n",
       "      <th>1</th>\n",
       "      <td>0001b1d5-b74a-4cbf-aeb0-7df5947bf349</td>\n",
       "      <td>2019-10-07 13:39:45.989359</td>\n",
       "      <td>False</td>\n",
       "      <td>other</td>\n",
       "      <td>2019-10-07 13:40:31.052909</td>\n",
       "      <td>tips_show</td>\n",
       "      <td>2019-10-07</td>\n",
       "      <td>2019-10-07</td>\n",
       "    </tr>\n",
       "  </tbody>\n",
       "</table>\n",
       "</div>"
      ],
      "text/plain": [
       "                                user_id                 first_time   show  \\\n",
       "0  0001b1d5-b74a-4cbf-aeb0-7df5947bf349 2019-10-07 13:39:45.989359  False   \n",
       "1  0001b1d5-b74a-4cbf-aeb0-7df5947bf349 2019-10-07 13:39:45.989359  False   \n",
       "\n",
       "  source                 event_time event_name  activ_week  first_week  \n",
       "0  other 2019-10-07 13:39:45.989359  tips_show  2019-10-07  2019-10-07  \n",
       "1  other 2019-10-07 13:40:31.052909  tips_show  2019-10-07  2019-10-07  "
      ]
     },
     "execution_count": 12,
     "metadata": {},
     "output_type": "execute_result"
    }
   ],
   "source": [
    "# добавляю два столбца - первая неделя и неделя активности\n",
    "profiles['activ_week'] = (pd.to_datetime(profiles['event_time'],\n",
    "                                                unit='d') - pd.to_timedelta(profiles['event_time'].dt.dayofweek, unit='d')).dt.date\n",
    "profiles['first_week'] = (pd.to_datetime(profiles['first_time'],\n",
    "                                                      unit='d') - pd.to_timedelta(profiles['first_time'].dt.dayofweek, unit='d')).dt.date\n",
    "profiles.head(2)"
   ]
  },
  {
   "cell_type": "code",
   "execution_count": 13,
   "id": "4975c021",
   "metadata": {},
   "outputs": [
    {
     "data": {
      "text/html": [
       "<div>\n",
       "<style scoped>\n",
       "    .dataframe tbody tr th:only-of-type {\n",
       "        vertical-align: middle;\n",
       "    }\n",
       "\n",
       "    .dataframe tbody tr th {\n",
       "        vertical-align: top;\n",
       "    }\n",
       "\n",
       "    .dataframe thead th {\n",
       "        text-align: right;\n",
       "    }\n",
       "</style>\n",
       "<table border=\"1\" class=\"dataframe\">\n",
       "  <thead>\n",
       "    <tr style=\"text-align: right;\">\n",
       "      <th></th>\n",
       "      <th>user_id</th>\n",
       "      <th>first_time</th>\n",
       "      <th>show</th>\n",
       "      <th>source</th>\n",
       "      <th>event_time</th>\n",
       "      <th>event_name</th>\n",
       "      <th>activ_week</th>\n",
       "      <th>first_week</th>\n",
       "      <th>lifetime</th>\n",
       "    </tr>\n",
       "  </thead>\n",
       "  <tbody>\n",
       "    <tr>\n",
       "      <th>0</th>\n",
       "      <td>0001b1d5-b74a-4cbf-aeb0-7df5947bf349</td>\n",
       "      <td>2019-10-07 13:39:45.989359</td>\n",
       "      <td>False</td>\n",
       "      <td>other</td>\n",
       "      <td>2019-10-07 13:39:45.989359</td>\n",
       "      <td>tips_show</td>\n",
       "      <td>2019-10-07</td>\n",
       "      <td>2019-10-07</td>\n",
       "      <td>0</td>\n",
       "    </tr>\n",
       "    <tr>\n",
       "      <th>1</th>\n",
       "      <td>0001b1d5-b74a-4cbf-aeb0-7df5947bf349</td>\n",
       "      <td>2019-10-07 13:39:45.989359</td>\n",
       "      <td>False</td>\n",
       "      <td>other</td>\n",
       "      <td>2019-10-07 13:40:31.052909</td>\n",
       "      <td>tips_show</td>\n",
       "      <td>2019-10-07</td>\n",
       "      <td>2019-10-07</td>\n",
       "      <td>0</td>\n",
       "    </tr>\n",
       "  </tbody>\n",
       "</table>\n",
       "</div>"
      ],
      "text/plain": [
       "                                user_id                 first_time   show  \\\n",
       "0  0001b1d5-b74a-4cbf-aeb0-7df5947bf349 2019-10-07 13:39:45.989359  False   \n",
       "1  0001b1d5-b74a-4cbf-aeb0-7df5947bf349 2019-10-07 13:39:45.989359  False   \n",
       "\n",
       "  source                 event_time event_name  activ_week  first_week  \\\n",
       "0  other 2019-10-07 13:39:45.989359  tips_show  2019-10-07  2019-10-07   \n",
       "1  other 2019-10-07 13:40:31.052909  tips_show  2019-10-07  2019-10-07   \n",
       "\n",
       "   lifetime  \n",
       "0         0  \n",
       "1         0  "
      ]
     },
     "execution_count": 13,
     "metadata": {},
     "output_type": "execute_result"
    }
   ],
   "source": [
    "# рассчитаю lifetime\n",
    "profiles['lifetime'] = (profiles['activ_week'] - profiles['first_week']).dt.days\n",
    "profiles.head(2)"
   ]
  },
  {
   "cell_type": "code",
   "execution_count": 14,
   "id": "66fccb27",
   "metadata": {
    "scrolled": true
   },
   "outputs": [
    {
     "data": {
      "text/html": [
       "<div>\n",
       "<style scoped>\n",
       "    .dataframe tbody tr th:only-of-type {\n",
       "        vertical-align: middle;\n",
       "    }\n",
       "\n",
       "    .dataframe tbody tr th {\n",
       "        vertical-align: top;\n",
       "    }\n",
       "\n",
       "    .dataframe thead th {\n",
       "        text-align: right;\n",
       "    }\n",
       "</style>\n",
       "<table border=\"1\" class=\"dataframe\">\n",
       "  <thead>\n",
       "    <tr style=\"text-align: right;\">\n",
       "      <th></th>\n",
       "      <th>first_week</th>\n",
       "      <th>cohort_size</th>\n",
       "      <th>lifetime</th>\n",
       "      <th>user_id</th>\n",
       "      <th>retention</th>\n",
       "    </tr>\n",
       "  </thead>\n",
       "  <tbody>\n",
       "    <tr>\n",
       "      <th>0</th>\n",
       "      <td>2019-10-07</td>\n",
       "      <td>1130</td>\n",
       "      <td>0</td>\n",
       "      <td>1130</td>\n",
       "      <td>1.000000</td>\n",
       "    </tr>\n",
       "    <tr>\n",
       "      <th>1</th>\n",
       "      <td>2019-10-07</td>\n",
       "      <td>1130</td>\n",
       "      <td>7</td>\n",
       "      <td>272</td>\n",
       "      <td>0.240708</td>\n",
       "    </tr>\n",
       "    <tr>\n",
       "      <th>2</th>\n",
       "      <td>2019-10-07</td>\n",
       "      <td>1130</td>\n",
       "      <td>14</td>\n",
       "      <td>170</td>\n",
       "      <td>0.150442</td>\n",
       "    </tr>\n",
       "    <tr>\n",
       "      <th>3</th>\n",
       "      <td>2019-10-07</td>\n",
       "      <td>1130</td>\n",
       "      <td>21</td>\n",
       "      <td>119</td>\n",
       "      <td>0.105310</td>\n",
       "    </tr>\n",
       "    <tr>\n",
       "      <th>4</th>\n",
       "      <td>2019-10-14</td>\n",
       "      <td>1166</td>\n",
       "      <td>0</td>\n",
       "      <td>1166</td>\n",
       "      <td>1.000000</td>\n",
       "    </tr>\n",
       "    <tr>\n",
       "      <th>5</th>\n",
       "      <td>2019-10-14</td>\n",
       "      <td>1166</td>\n",
       "      <td>7</td>\n",
       "      <td>282</td>\n",
       "      <td>0.241852</td>\n",
       "    </tr>\n",
       "    <tr>\n",
       "      <th>6</th>\n",
       "      <td>2019-10-14</td>\n",
       "      <td>1166</td>\n",
       "      <td>14</td>\n",
       "      <td>155</td>\n",
       "      <td>0.132933</td>\n",
       "    </tr>\n",
       "    <tr>\n",
       "      <th>7</th>\n",
       "      <td>2019-10-21</td>\n",
       "      <td>1094</td>\n",
       "      <td>0</td>\n",
       "      <td>1094</td>\n",
       "      <td>1.000000</td>\n",
       "    </tr>\n",
       "    <tr>\n",
       "      <th>8</th>\n",
       "      <td>2019-10-21</td>\n",
       "      <td>1094</td>\n",
       "      <td>7</td>\n",
       "      <td>239</td>\n",
       "      <td>0.218464</td>\n",
       "    </tr>\n",
       "    <tr>\n",
       "      <th>9</th>\n",
       "      <td>2019-10-28</td>\n",
       "      <td>903</td>\n",
       "      <td>0</td>\n",
       "      <td>903</td>\n",
       "      <td>1.000000</td>\n",
       "    </tr>\n",
       "  </tbody>\n",
       "</table>\n",
       "</div>"
      ],
      "text/plain": [
       "   first_week  cohort_size  lifetime  user_id  retention\n",
       "0  2019-10-07         1130         0     1130   1.000000\n",
       "1  2019-10-07         1130         7      272   0.240708\n",
       "2  2019-10-07         1130        14      170   0.150442\n",
       "3  2019-10-07         1130        21      119   0.105310\n",
       "4  2019-10-14         1166         0     1166   1.000000\n",
       "5  2019-10-14         1166         7      282   0.241852\n",
       "6  2019-10-14         1166        14      155   0.132933\n",
       "7  2019-10-21         1094         0     1094   1.000000\n",
       "8  2019-10-21         1094         7      239   0.218464\n",
       "9  2019-10-28          903         0      903   1.000000"
      ]
     },
     "execution_count": 14,
     "metadata": {},
     "output_type": "execute_result"
    }
   ],
   "source": [
    "# рассчитываем удержание\n",
    "cohorts = profiles.groupby(['first_week','lifetime']).agg({'user_id':'nunique'}).reset_index()\n",
    "cohort_sizes = (\n",
    "        profiles.groupby('first_week')\n",
    "        .agg({'user_id': 'nunique'})\n",
    "        .rename(columns={'user_id': 'cohort_size'})\n",
    "        .reset_index()\n",
    "    )   \n",
    "cohorts = cohort_sizes.merge(cohorts, on='first_week', how='left').fillna(0)\n",
    "#cohorts['first_week'] = pd.to_datetime(cohorts['first_week'])\n",
    "\n",
    "#Посчитаем Retention Rate. \n",
    "#Разделим количество активных пользователей в каждую из недель на исходное число пользователей в когорте\n",
    "cohorts['retention'] = cohorts['user_id']/cohorts['cohort_size']\n",
    "cohorts"
   ]
  },
  {
   "cell_type": "code",
   "execution_count": 15,
   "id": "6ddfb320",
   "metadata": {},
   "outputs": [
    {
     "data": {
      "text/html": [
       "<div>\n",
       "<style scoped>\n",
       "    .dataframe tbody tr th:only-of-type {\n",
       "        vertical-align: middle;\n",
       "    }\n",
       "\n",
       "    .dataframe tbody tr th {\n",
       "        vertical-align: top;\n",
       "    }\n",
       "\n",
       "    .dataframe thead th {\n",
       "        text-align: right;\n",
       "    }\n",
       "</style>\n",
       "<table border=\"1\" class=\"dataframe\">\n",
       "  <thead>\n",
       "    <tr style=\"text-align: right;\">\n",
       "      <th>lifetime</th>\n",
       "      <th>first_week</th>\n",
       "      <th>0</th>\n",
       "      <th>7</th>\n",
       "      <th>14</th>\n",
       "      <th>21</th>\n",
       "    </tr>\n",
       "  </thead>\n",
       "  <tbody>\n",
       "    <tr>\n",
       "      <th>0</th>\n",
       "      <td>2019-10-07</td>\n",
       "      <td>1.0</td>\n",
       "      <td>0.240708</td>\n",
       "      <td>0.150442</td>\n",
       "      <td>0.10531</td>\n",
       "    </tr>\n",
       "    <tr>\n",
       "      <th>1</th>\n",
       "      <td>2019-10-14</td>\n",
       "      <td>1.0</td>\n",
       "      <td>0.241852</td>\n",
       "      <td>0.132933</td>\n",
       "      <td>NaN</td>\n",
       "    </tr>\n",
       "    <tr>\n",
       "      <th>2</th>\n",
       "      <td>2019-10-21</td>\n",
       "      <td>1.0</td>\n",
       "      <td>0.218464</td>\n",
       "      <td>NaN</td>\n",
       "      <td>NaN</td>\n",
       "    </tr>\n",
       "    <tr>\n",
       "      <th>3</th>\n",
       "      <td>2019-10-28</td>\n",
       "      <td>1.0</td>\n",
       "      <td>NaN</td>\n",
       "      <td>NaN</td>\n",
       "      <td>NaN</td>\n",
       "    </tr>\n",
       "  </tbody>\n",
       "</table>\n",
       "</div>"
      ],
      "text/plain": [
       "lifetime  first_week    0         7        14       21\n",
       "0         2019-10-07  1.0  0.240708  0.150442  0.10531\n",
       "1         2019-10-14  1.0  0.241852  0.132933      NaN\n",
       "2         2019-10-21  1.0  0.218464       NaN      NaN\n",
       "3         2019-10-28  1.0       NaN       NaN      NaN"
      ]
     },
     "execution_count": 15,
     "metadata": {},
     "output_type": "execute_result"
    }
   ],
   "source": [
    "# составлю сводную таблицу удержания по неделям\n",
    "retention = cohorts.pivot_table(index='first_week',columns='lifetime',values='retention',aggfunc='sum').reset_index()\n",
    "retention"
   ]
  },
  {
   "cell_type": "code",
   "execution_count": 16,
   "id": "cdee3b7d",
   "metadata": {},
   "outputs": [
    {
     "data": {
      "image/png": "[encoded data removed]",
      "text/plain": [
       "<Figure size 576x432 with 2 Axes>"
      ]
     },
     "metadata": {
      "needs_background": "light"
     },
     "output_type": "display_data"
    }
   ],
   "source": [
    "# визуализирую полученные данные\n",
    "plt.figure(figsize=(8,6))\n",
    "sns.heatmap(\n",
    "    cohorts.pivot_table(index='first_week',columns='lifetime',values='retention',aggfunc='sum'), \n",
    "    annot=True, \n",
    "    fmt='.1%',\n",
    "    linewidths=1,\n",
    "    linecolor='gray'\n",
    ")\n",
    "plt.title('Тепловая карта Retention Rate')\n",
    "plt.xlabel('Лайфтайм')\n",
    "plt.ylabel('Недели')\n",
    "plt.show()"
   ]
  },
  {
   "cell_type": "markdown",
   "id": "6773d49a",
   "metadata": {},
   "source": [
    "**Вывод:** В первую неделю у когорт 7.10-13.10 и 14.10-20.10 удержание почти одинаковое - 24.1% и 24.2% соответственно. Третья когорта показыввает уменьшение - 21.10-27.10 - 21.8%. Разница 2.3 процентных пункта.\n",
    "На второй неделе удержание у когорты 7.10-13.10 - 15.0%, а у когорты 14.10-20.10 - 13.3%."
   ]
  },
  {
   "cell_type": "markdown",
   "id": "5415e0cc",
   "metadata": {},
   "source": [
    "### 3.2. Время, проведённое в приложении."
   ]
  },
  {
   "cell_type": "code",
   "execution_count": 17,
   "id": "1ebb4e42",
   "metadata": {
    "scrolled": false
   },
   "outputs": [
    {
     "data": {
      "text/html": [
       "<div>\n",
       "<style scoped>\n",
       "    .dataframe tbody tr th:only-of-type {\n",
       "        vertical-align: middle;\n",
       "    }\n",
       "\n",
       "    .dataframe tbody tr th {\n",
       "        vertical-align: top;\n",
       "    }\n",
       "\n",
       "    .dataframe thead th {\n",
       "        text-align: right;\n",
       "    }\n",
       "</style>\n",
       "<table border=\"1\" class=\"dataframe\">\n",
       "  <thead>\n",
       "    <tr style=\"text-align: right;\">\n",
       "      <th></th>\n",
       "      <th>user_id</th>\n",
       "      <th>source</th>\n",
       "      <th>event_time</th>\n",
       "      <th>event_name</th>\n",
       "      <th>session</th>\n",
       "      <th>week</th>\n",
       "    </tr>\n",
       "  </thead>\n",
       "  <tbody>\n",
       "    <tr>\n",
       "      <th>2171</th>\n",
       "      <td>0001b1d5-b74a-4cbf-aeb0-7df5947bf349</td>\n",
       "      <td>other</td>\n",
       "      <td>2019-10-07 13:39:45.989359</td>\n",
       "      <td>tips_show</td>\n",
       "      <td>2019-10-07</td>\n",
       "      <td>2019-10-07/2019-10-13</td>\n",
       "    </tr>\n",
       "    <tr>\n",
       "      <th>2172</th>\n",
       "      <td>0001b1d5-b74a-4cbf-aeb0-7df5947bf349</td>\n",
       "      <td>other</td>\n",
       "      <td>2019-10-07 13:40:31.052909</td>\n",
       "      <td>tips_show</td>\n",
       "      <td>2019-10-07</td>\n",
       "      <td>2019-10-07/2019-10-13</td>\n",
       "    </tr>\n",
       "  </tbody>\n",
       "</table>\n",
       "</div>"
      ],
      "text/plain": [
       "                                   user_id source                 event_time  \\\n",
       "2171  0001b1d5-b74a-4cbf-aeb0-7df5947bf349  other 2019-10-07 13:39:45.989359   \n",
       "2172  0001b1d5-b74a-4cbf-aeb0-7df5947bf349  other 2019-10-07 13:40:31.052909   \n",
       "\n",
       "     event_name     session                   week  \n",
       "2171  tips_show  2019-10-07  2019-10-07/2019-10-13  \n",
       "2172  tips_show  2019-10-07  2019-10-07/2019-10-13  "
      ]
     },
     "execution_count": 17,
     "metadata": {},
     "output_type": "execute_result"
    }
   ],
   "source": [
    "# составлю сводную таблицу и выделю сессию как один день активности пользователя\n",
    "sessions = df.sort_values(['user_id', 'event_time'])\n",
    "sessions['session'] = sessions['event_time'].dt.to_period('D')\n",
    "sessions['week'] = sessions['event_time'].dt.to_period('W')\n",
    "sessions.head(2)"
   ]
  },
  {
   "cell_type": "code",
   "execution_count": 18,
   "id": "3167f1ea",
   "metadata": {},
   "outputs": [
    {
     "data": {
      "text/html": [
       "<div>\n",
       "<style scoped>\n",
       "    .dataframe tbody tr th:only-of-type {\n",
       "        vertical-align: middle;\n",
       "    }\n",
       "\n",
       "    .dataframe tbody tr th {\n",
       "        vertical-align: top;\n",
       "    }\n",
       "\n",
       "    .dataframe thead th {\n",
       "        text-align: right;\n",
       "    }\n",
       "</style>\n",
       "<table border=\"1\" class=\"dataframe\">\n",
       "  <thead>\n",
       "    <tr style=\"text-align: right;\">\n",
       "      <th></th>\n",
       "      <th>user_id</th>\n",
       "      <th>session</th>\n",
       "    </tr>\n",
       "  </thead>\n",
       "  <tbody>\n",
       "    <tr>\n",
       "      <th>0</th>\n",
       "      <td>21230dd9-2f7f-4b77-a436-43d4d10388e0</td>\n",
       "      <td>25</td>\n",
       "    </tr>\n",
       "    <tr>\n",
       "      <th>1</th>\n",
       "      <td>7e797355-265c-4997-ba47-2258e06d3c66</td>\n",
       "      <td>21</td>\n",
       "    </tr>\n",
       "    <tr>\n",
       "      <th>2</th>\n",
       "      <td>0d9e5bb7-0ad6-4b62-a118-b1e4f5b31dfa</td>\n",
       "      <td>21</td>\n",
       "    </tr>\n",
       "    <tr>\n",
       "      <th>3</th>\n",
       "      <td>1580911b-65db-4f1a-be7e-1ca39becac30</td>\n",
       "      <td>18</td>\n",
       "    </tr>\n",
       "    <tr>\n",
       "      <th>4</th>\n",
       "      <td>6383ff6a-04b8-4562-a98f-bb4f760d3c39</td>\n",
       "      <td>18</td>\n",
       "    </tr>\n",
       "  </tbody>\n",
       "</table>\n",
       "</div>"
      ],
      "text/plain": [
       "                                user_id  session\n",
       "0  21230dd9-2f7f-4b77-a436-43d4d10388e0       25\n",
       "1  7e797355-265c-4997-ba47-2258e06d3c66       21\n",
       "2  0d9e5bb7-0ad6-4b62-a118-b1e4f5b31dfa       21\n",
       "3  1580911b-65db-4f1a-be7e-1ca39becac30       18\n",
       "4  6383ff6a-04b8-4562-a98f-bb4f760d3c39       18"
      ]
     },
     "execution_count": 18,
     "metadata": {},
     "output_type": "execute_result"
    }
   ],
   "source": [
    "# посчитаю для каждого пользователя количество сессий\n",
    "time_spent = (\n",
    "    sessions.groupby(['user_id'])\n",
    "    .agg({'session':'nunique'})\n",
    "    .sort_values(by='session', ascending=False)\n",
    "    .reset_index()\n",
    ")\n",
    "time_spent.head()"
   ]
  },
  {
   "cell_type": "code",
   "execution_count": 19,
   "id": "a82fcc43",
   "metadata": {},
   "outputs": [
    {
     "data": {
      "text/html": [
       "<div>\n",
       "<style scoped>\n",
       "    .dataframe tbody tr th:only-of-type {\n",
       "        vertical-align: middle;\n",
       "    }\n",
       "\n",
       "    .dataframe tbody tr th {\n",
       "        vertical-align: top;\n",
       "    }\n",
       "\n",
       "    .dataframe thead th {\n",
       "        text-align: right;\n",
       "    }\n",
       "</style>\n",
       "<table border=\"1\" class=\"dataframe\">\n",
       "  <thead>\n",
       "    <tr style=\"text-align: right;\">\n",
       "      <th></th>\n",
       "      <th>session</th>\n",
       "    </tr>\n",
       "  </thead>\n",
       "  <tbody>\n",
       "    <tr>\n",
       "      <th>count</th>\n",
       "      <td>4293.000000</td>\n",
       "    </tr>\n",
       "    <tr>\n",
       "      <th>mean</th>\n",
       "      <td>1.820871</td>\n",
       "    </tr>\n",
       "    <tr>\n",
       "      <th>std</th>\n",
       "      <td>1.762537</td>\n",
       "    </tr>\n",
       "    <tr>\n",
       "      <th>min</th>\n",
       "      <td>1.000000</td>\n",
       "    </tr>\n",
       "    <tr>\n",
       "      <th>25%</th>\n",
       "      <td>1.000000</td>\n",
       "    </tr>\n",
       "    <tr>\n",
       "      <th>50%</th>\n",
       "      <td>1.000000</td>\n",
       "    </tr>\n",
       "    <tr>\n",
       "      <th>75%</th>\n",
       "      <td>2.000000</td>\n",
       "    </tr>\n",
       "    <tr>\n",
       "      <th>max</th>\n",
       "      <td>25.000000</td>\n",
       "    </tr>\n",
       "  </tbody>\n",
       "</table>\n",
       "</div>"
      ],
      "text/plain": [
       "           session\n",
       "count  4293.000000\n",
       "mean      1.820871\n",
       "std       1.762537\n",
       "min       1.000000\n",
       "25%       1.000000\n",
       "50%       1.000000\n",
       "75%       2.000000\n",
       "max      25.000000"
      ]
     },
     "execution_count": 19,
     "metadata": {},
     "output_type": "execute_result"
    }
   ],
   "source": [
    "# посмотрю распределение данных\n",
    "time_spent.describe()"
   ]
  },
  {
   "cell_type": "code",
   "execution_count": 20,
   "id": "e8425633",
   "metadata": {},
   "outputs": [
    {
     "data": {
      "image/png": "[encoded data removed]",
      "text/plain": [
       "<Figure size 360x360 with 1 Axes>"
      ]
     },
     "metadata": {
      "needs_background": "light"
     },
     "output_type": "display_data"
    }
   ],
   "source": [
    "# визуализирую распределение сессий по пользователям\n",
    "sns.catplot(kind='boxen', data=time_spent)\n",
    "plt.title('Распределение количества сессий по пользователям')\n",
    "plt.xlabel('Количество пользователей')\n",
    "plt.ylabel('Количество сессий')\n",
    "plt.show()"
   ]
  },
  {
   "cell_type": "markdown",
   "id": "1bdce288",
   "metadata": {},
   "source": [
    "**Вывод:** В среднем 1,8 сессии на пользователя за 4 недели, медиана - 1. \n",
    "Большенство (75%) посетило приложение 1-2 раза в месяц. Но есть пользователи, которые заходят намного чаще. Самое большое количество дней - 25."
   ]
  },
  {
   "cell_type": "markdown",
   "id": "d6def5cf",
   "metadata": {},
   "source": [
    "Расчитаю длительность кождой сессии и рассмотрю распределение их времени."
   ]
  },
  {
   "cell_type": "code",
   "execution_count": 21,
   "id": "2aa443a1",
   "metadata": {
    "scrolled": false
   },
   "outputs": [
    {
     "data": {
      "text/html": [
       "<div>\n",
       "<style scoped>\n",
       "    .dataframe tbody tr th:only-of-type {\n",
       "        vertical-align: middle;\n",
       "    }\n",
       "\n",
       "    .dataframe tbody tr th {\n",
       "        vertical-align: top;\n",
       "    }\n",
       "\n",
       "    .dataframe thead th {\n",
       "        text-align: right;\n",
       "    }\n",
       "</style>\n",
       "<table border=\"1\" class=\"dataframe\">\n",
       "  <thead>\n",
       "    <tr style=\"text-align: right;\">\n",
       "      <th></th>\n",
       "      <th>user_id</th>\n",
       "      <th>session</th>\n",
       "      <th>count_time</th>\n",
       "      <th>min_time</th>\n",
       "      <th>max_time</th>\n",
       "      <th>duration</th>\n",
       "    </tr>\n",
       "  </thead>\n",
       "  <tbody>\n",
       "    <tr>\n",
       "      <th>0</th>\n",
       "      <td>0001b1d5-b74a-4cbf-aeb0-7df5947bf349</td>\n",
       "      <td>2019-10-07</td>\n",
       "      <td>9</td>\n",
       "      <td>2019-10-07 13:39:45.989359</td>\n",
       "      <td>2019-10-07 13:49:41.716617</td>\n",
       "      <td>0 days 00:09:55.727258</td>\n",
       "    </tr>\n",
       "    <tr>\n",
       "      <th>1</th>\n",
       "      <td>0001b1d5-b74a-4cbf-aeb0-7df5947bf349</td>\n",
       "      <td>2019-10-09</td>\n",
       "      <td>4</td>\n",
       "      <td>2019-10-09 18:33:55.577963</td>\n",
       "      <td>2019-10-09 18:42:22.963948</td>\n",
       "      <td>0 days 00:08:27.385985</td>\n",
       "    </tr>\n",
       "  </tbody>\n",
       "</table>\n",
       "</div>"
      ],
      "text/plain": [
       "                                user_id     session  count_time  \\\n",
       "0  0001b1d5-b74a-4cbf-aeb0-7df5947bf349  2019-10-07           9   \n",
       "1  0001b1d5-b74a-4cbf-aeb0-7df5947bf349  2019-10-09           4   \n",
       "\n",
       "                    min_time                   max_time               duration  \n",
       "0 2019-10-07 13:39:45.989359 2019-10-07 13:49:41.716617 0 days 00:09:55.727258  \n",
       "1 2019-10-09 18:33:55.577963 2019-10-09 18:42:22.963948 0 days 00:08:27.385985  "
      ]
     },
     "execution_count": 21,
     "metadata": {},
     "output_type": "execute_result"
    }
   ],
   "source": [
    "# составлю сводную таблицу и выделю длительность сессий\n",
    "durations = df.sort_values(['user_id', 'event_time'])\n",
    "durations['session'] = durations['event_time'].dt.to_period('D')\n",
    "durations = durations.groupby(['user_id',  'session']).agg({'event_time':['count', 'min', 'max']}).reset_index()\n",
    "durations.columns = ['user_id', 'session', 'count_time', 'min_time', 'max_time']\n",
    "durations['duration'] = durations['max_time']-durations['min_time']\n",
    "durations.head(2)"
   ]
  },
  {
   "cell_type": "code",
   "execution_count": 22,
   "id": "3452bbef",
   "metadata": {
    "scrolled": true
   },
   "outputs": [
    {
     "data": {
      "text/plain": [
       "count                         7817\n",
       "mean     0 days 01:23:02.002207429\n",
       "std      0 days 03:10:10.082958971\n",
       "min                0 days 00:00:00\n",
       "25%         0 days 00:02:27.479394\n",
       "50%         0 days 00:11:48.416026\n",
       "75%         0 days 00:48:44.970514\n",
       "90%      0 days 04:18:17.362599600\n",
       "99%      0 days 17:08:01.670624720\n",
       "max         0 days 23:37:28.666352\n",
       "Name: duration, dtype: object"
      ]
     },
     "execution_count": 22,
     "metadata": {},
     "output_type": "execute_result"
    }
   ],
   "source": [
    "# посмотрю распределение длительности сесиий\n",
    "durations['duration'].describe(percentiles = [0.25, 0.5, 0.75, 0.9, 0.99])"
   ]
  },
  {
   "cell_type": "code",
   "execution_count": 23,
   "id": "6d43a680",
   "metadata": {},
   "outputs": [
    {
     "data": {
      "image/png": "[encoded data removed]",
      "text/plain": [
       "<Figure size 1080x504 with 1 Axes>"
      ]
     },
     "metadata": {
      "needs_background": "light"
     },
     "output_type": "display_data"
    }
   ],
   "source": [
    "# визуализирую распределение длительности сесиий для 90% пользоватлей\n",
    "j = (durations['duration'].apply(lambda x:x.total_seconds())) / 60\n",
    "plt.figure(figsize=(15, 7))\n",
    "plt.hist(j, bins=300)\n",
    "plt.xlabel('Длительность сесии в минутах')\n",
    "plt.ylabel('Количество пользователей')\n",
    "plt.xlim(0, 258)\n",
    "plt.grid()\n",
    "plt.title('Распределение длительности сесиий для 90% пользоватлей')\n",
    "plt.show()"
   ]
  },
  {
   "cell_type": "code",
   "execution_count": 24,
   "id": "90ebbb25",
   "metadata": {},
   "outputs": [
    {
     "data": {
      "text/plain": [
       "count    7817.000000\n",
       "mean        9.491749\n",
       "std        12.557971\n",
       "min         1.000000\n",
       "25%         3.000000\n",
       "50%         6.000000\n",
       "75%        11.000000\n",
       "95%        32.000000\n",
       "99%        59.000000\n",
       "max       384.000000\n",
       "Name: count_time, dtype: float64"
      ]
     },
     "execution_count": 24,
     "metadata": {},
     "output_type": "execute_result"
    }
   ],
   "source": [
    "# посмотрю распределение количества событий\n",
    "durations['count_time'].describe(percentiles = [0.25, 0.5, 0.75, 0.95, 0.99])"
   ]
  },
  {
   "cell_type": "code",
   "execution_count": 25,
   "id": "0065fc69",
   "metadata": {},
   "outputs": [
    {
     "data": {
      "image/png": "[encoded data removed]",
      "text/plain": [
       "<Figure size 1080x504 with 1 Axes>"
      ]
     },
     "metadata": {
      "needs_background": "light"
     },
     "output_type": "display_data"
    }
   ],
   "source": [
    "# визуализирую распределение количества событий для 99% пользователей\n",
    "plt.figure(figsize=(15, 7))\n",
    "plt.hist(durations['count_time'], bins=300)\n",
    "plt.xlabel('Количество событий в пределах одной сессии')\n",
    "plt.ylabel('Количество пользователей')\n",
    "plt.xlim(0, 59)\n",
    "plt.grid()\n",
    "plt.title('Распределение количества событий в пределах одной сессии для 99% пользователей')\n",
    "plt.show()"
   ]
  },
  {
   "cell_type": "markdown",
   "id": "06ae17fa",
   "metadata": {},
   "source": [
    "**Вывод:** По полученным расчетам видно, что есть нулевые сессии. Середняя сессия длится 1:23:02, а медиана всего почти 12 минут. Такая разница говорит о том, что большая часть сессий короткие, до 1 часа (75% всех сессий длительность до 00:48:45) и 10% сессий от 4 часов 18 минут. При этом совершая в среднем 9,5 событий за сессию (медиана 11).\n",
    "\n",
    "Для специфики приложения это нормальный результат - примерно за это время пользователь может найти то, что его интресует, рассмотреть варианты и принять решение о покупке. "
   ]
  },
  {
   "cell_type": "code",
   "execution_count": 26,
   "id": "1b5921b0",
   "metadata": {},
   "outputs": [
    {
     "data": {
      "text/html": [
       "<div>\n",
       "<style scoped>\n",
       "    .dataframe tbody tr th:only-of-type {\n",
       "        vertical-align: middle;\n",
       "    }\n",
       "\n",
       "    .dataframe tbody tr th {\n",
       "        vertical-align: top;\n",
       "    }\n",
       "\n",
       "    .dataframe thead th {\n",
       "        text-align: right;\n",
       "    }\n",
       "</style>\n",
       "<table border=\"1\" class=\"dataframe\">\n",
       "  <thead>\n",
       "    <tr style=\"text-align: right;\">\n",
       "      <th></th>\n",
       "      <th>user_id</th>\n",
       "      <th>session</th>\n",
       "      <th>count_time</th>\n",
       "      <th>min_time</th>\n",
       "      <th>max_time</th>\n",
       "      <th>duration</th>\n",
       "    </tr>\n",
       "  </thead>\n",
       "  <tbody>\n",
       "    <tr>\n",
       "      <th>9</th>\n",
       "      <td>00157779-810c-4498-9e05-a1e9e3cedf93</td>\n",
       "      <td>2019-11-03</td>\n",
       "      <td>1</td>\n",
       "      <td>2019-11-03 17:12:09.708771</td>\n",
       "      <td>2019-11-03 17:12:09.708771</td>\n",
       "      <td>0 days</td>\n",
       "    </tr>\n",
       "    <tr>\n",
       "      <th>19</th>\n",
       "      <td>00551e79-152e-4441-9cf7-565d7eb04090</td>\n",
       "      <td>2019-10-29</td>\n",
       "      <td>1</td>\n",
       "      <td>2019-10-29 02:17:12.342406</td>\n",
       "      <td>2019-10-29 02:17:12.342406</td>\n",
       "      <td>0 days</td>\n",
       "    </tr>\n",
       "  </tbody>\n",
       "</table>\n",
       "</div>"
      ],
      "text/plain": [
       "                                 user_id     session  count_time  \\\n",
       "9   00157779-810c-4498-9e05-a1e9e3cedf93  2019-11-03           1   \n",
       "19  00551e79-152e-4441-9cf7-565d7eb04090  2019-10-29           1   \n",
       "\n",
       "                     min_time                   max_time duration  \n",
       "9  2019-11-03 17:12:09.708771 2019-11-03 17:12:09.708771   0 days  \n",
       "19 2019-10-29 02:17:12.342406 2019-10-29 02:17:12.342406   0 days  "
      ]
     },
     "execution_count": 26,
     "metadata": {},
     "output_type": "execute_result"
    }
   ],
   "source": [
    "# посмотрю события с нулевой сессией\n",
    "d = durations.query('duration == \"0 days 00:00:00\"').sort_values(by='user_id')\n",
    "d.head(2)"
   ]
  },
  {
   "cell_type": "markdown",
   "id": "e2d04030",
   "metadata": {},
   "source": [
    "Событий с нулевой длительностью довольно-таки много - 994 штук. "
   ]
  },
  {
   "cell_type": "code",
   "execution_count": 27,
   "id": "917b4c35",
   "metadata": {},
   "outputs": [
    {
     "data": {
      "text/plain": [
       "array([1])"
      ]
     },
     "execution_count": 27,
     "metadata": {},
     "output_type": "execute_result"
    }
   ],
   "source": [
    "# посмотрю количество событий, совершенных в нулевые сессии\n",
    "d['count_time'].unique()"
   ]
  },
  {
   "cell_type": "code",
   "execution_count": 28,
   "id": "abc020c9",
   "metadata": {
    "scrolled": true
   },
   "outputs": [
    {
     "data": {
      "text/html": [
       "<div>\n",
       "<style scoped>\n",
       "    .dataframe tbody tr th:only-of-type {\n",
       "        vertical-align: middle;\n",
       "    }\n",
       "\n",
       "    .dataframe tbody tr th {\n",
       "        vertical-align: top;\n",
       "    }\n",
       "\n",
       "    .dataframe thead th {\n",
       "        text-align: right;\n",
       "    }\n",
       "</style>\n",
       "<table border=\"1\" class=\"dataframe\">\n",
       "  <thead>\n",
       "    <tr style=\"text-align: right;\">\n",
       "      <th></th>\n",
       "      <th>event_name</th>\n",
       "      <th>0</th>\n",
       "    </tr>\n",
       "  </thead>\n",
       "  <tbody>\n",
       "    <tr>\n",
       "      <th>0</th>\n",
       "      <td>tips_show</td>\n",
       "      <td>392</td>\n",
       "    </tr>\n",
       "    <tr>\n",
       "      <th>1</th>\n",
       "      <td>photos_show</td>\n",
       "      <td>248</td>\n",
       "    </tr>\n",
       "    <tr>\n",
       "      <th>2</th>\n",
       "      <td>search</td>\n",
       "      <td>194</td>\n",
       "    </tr>\n",
       "    <tr>\n",
       "      <th>3</th>\n",
       "      <td>show_contacts</td>\n",
       "      <td>64</td>\n",
       "    </tr>\n",
       "    <tr>\n",
       "      <th>4</th>\n",
       "      <td>map</td>\n",
       "      <td>57</td>\n",
       "    </tr>\n",
       "    <tr>\n",
       "      <th>5</th>\n",
       "      <td>advert_open</td>\n",
       "      <td>25</td>\n",
       "    </tr>\n",
       "    <tr>\n",
       "      <th>6</th>\n",
       "      <td>favorites_add</td>\n",
       "      <td>9</td>\n",
       "    </tr>\n",
       "    <tr>\n",
       "      <th>7</th>\n",
       "      <td>tips_click</td>\n",
       "      <td>5</td>\n",
       "    </tr>\n",
       "  </tbody>\n",
       "</table>\n",
       "</div>"
      ],
      "text/plain": [
       "      event_name    0\n",
       "0      tips_show  392\n",
       "1    photos_show  248\n",
       "2         search  194\n",
       "3  show_contacts   64\n",
       "4            map   57\n",
       "5    advert_open   25\n",
       "6  favorites_add    9\n",
       "7     tips_click    5"
      ]
     },
     "execution_count": 28,
     "metadata": {},
     "output_type": "execute_result"
    }
   ],
   "source": [
    "# какие события в нулевых сессиях\n",
    "us = durations['user_id'].to_list()\n",
    "nul = durations.query('duration == \"0 days 00:00:00\"')['min_time'].to_list()\n",
    "data = df.query('user_id in @us & event_time in @nul').value_counts('event_name').reset_index()\n",
    "data"
   ]
  },
  {
   "cell_type": "markdown",
   "id": "dfba0102",
   "metadata": {},
   "source": [
    "**Вывод:** Событий с нулевой длительностью - 994 штук. Из них лидируют `tips_show`(пользователь увидел рекомендованные объявления) - 392 нулевые сессии, `photos_show` (просмотр фотографий в объявлении) - 248 нлевой сессии и `search` (поиск) - 194 нулевые сессии."
   ]
  },
  {
   "cell_type": "markdown",
   "id": "6a86607e",
   "metadata": {},
   "source": [
    "### 3.3 Частота действий."
   ]
  },
  {
   "cell_type": "markdown",
   "id": "01554c4c",
   "metadata": {},
   "source": [
    "#### 3.3.1. Частота действий по событиям"
   ]
  },
  {
   "cell_type": "code",
   "execution_count": 29,
   "id": "d0836eb8",
   "metadata": {},
   "outputs": [
    {
     "data": {
      "text/html": [
       "<div>\n",
       "<style scoped>\n",
       "    .dataframe tbody tr th:only-of-type {\n",
       "        vertical-align: middle;\n",
       "    }\n",
       "\n",
       "    .dataframe tbody tr th {\n",
       "        vertical-align: top;\n",
       "    }\n",
       "\n",
       "    .dataframe thead th {\n",
       "        text-align: right;\n",
       "    }\n",
       "</style>\n",
       "<table border=\"1\" class=\"dataframe\">\n",
       "  <thead>\n",
       "    <tr style=\"text-align: right;\">\n",
       "      <th></th>\n",
       "      <th>event_name</th>\n",
       "      <th>user_id</th>\n",
       "    </tr>\n",
       "  </thead>\n",
       "  <tbody>\n",
       "    <tr>\n",
       "      <th>0</th>\n",
       "      <td>tips_show</td>\n",
       "      <td>40055</td>\n",
       "    </tr>\n",
       "    <tr>\n",
       "      <th>1</th>\n",
       "      <td>photos_show</td>\n",
       "      <td>10012</td>\n",
       "    </tr>\n",
       "    <tr>\n",
       "      <th>2</th>\n",
       "      <td>search</td>\n",
       "      <td>6784</td>\n",
       "    </tr>\n",
       "    <tr>\n",
       "      <th>3</th>\n",
       "      <td>advert_open</td>\n",
       "      <td>6164</td>\n",
       "    </tr>\n",
       "    <tr>\n",
       "      <th>4</th>\n",
       "      <td>show_contacts</td>\n",
       "      <td>4529</td>\n",
       "    </tr>\n",
       "    <tr>\n",
       "      <th>5</th>\n",
       "      <td>map</td>\n",
       "      <td>3881</td>\n",
       "    </tr>\n",
       "    <tr>\n",
       "      <th>6</th>\n",
       "      <td>favorites_add</td>\n",
       "      <td>1417</td>\n",
       "    </tr>\n",
       "    <tr>\n",
       "      <th>7</th>\n",
       "      <td>tips_click</td>\n",
       "      <td>814</td>\n",
       "    </tr>\n",
       "    <tr>\n",
       "      <th>8</th>\n",
       "      <td>contacts_call</td>\n",
       "      <td>541</td>\n",
       "    </tr>\n",
       "  </tbody>\n",
       "</table>\n",
       "</div>"
      ],
      "text/plain": [
       "      event_name  user_id\n",
       "0      tips_show    40055\n",
       "1    photos_show    10012\n",
       "2         search     6784\n",
       "3    advert_open     6164\n",
       "4  show_contacts     4529\n",
       "5            map     3881\n",
       "6  favorites_add     1417\n",
       "7     tips_click      814\n",
       "8  contacts_call      541"
      ]
     },
     "execution_count": 29,
     "metadata": {},
     "output_type": "execute_result"
    }
   ],
   "source": [
    "# сделаю сводную таблицу по частоте действий за всё известое нам время\n",
    "action = df.groupby('event_name')['user_id'].count().sort_values(ascending=False).reset_index()\n",
    "action"
   ]
  },
  {
   "cell_type": "code",
   "execution_count": 30,
   "id": "b128d58b",
   "metadata": {
    "scrolled": false
   },
   "outputs": [
    {
     "data": {
      "image/png": "[encoded data removed]",
      "text/plain": [
       "<Figure size 1080x504 with 1 Axes>"
      ]
     },
     "metadata": {
      "needs_background": "light"
     },
     "output_type": "display_data"
    }
   ],
   "source": [
    "# визуализирую полученную информацию\n",
    "plt.figure(figsize=(15, 7))\n",
    "p = sns.barplot(x='event_name', y='user_id', data=action)\n",
    "for bar in p.patches:\n",
    "      p.annotate(format(bar.get_height(), '.2f'),\n",
    "                   (bar.get_x() + bar.get_width() / 2,\n",
    "                    bar.get_height()), ha='center', va='center',\n",
    "                   size=15, xytext=(0, 8),\n",
    "                   textcoords='offset points')\n",
    "plt.title('Количество просмотров каждого события')\n",
    "plt.xlabel('Наименования событий')\n",
    "plt.ylabel('Количество просмотров')\n",
    "plt.xticks(rotation=90)\n",
    "plt.show()"
   ]
  },
  {
   "cell_type": "markdown",
   "id": "2bf6bc6c",
   "metadata": {},
   "source": [
    "**Вывод:** Самое высокопосещаемое событие - `tips_show` (пользователь увидел рекомендованные объявления). Их посмотрели за месяц 40055 раз. На основе этого можно предположить, что на главной странице пользователь видит рекомендованные объявления.\n",
    "Однако, количество события `tips_click` (пользователь кликнул по рекомендованному объявлению) настолько мало - 814 кликов, что это может говорить о том, что рекомендации не очень интересны пользователям. \n",
    "    \n",
    "А при сравнении событий `search` (поиск по сайту) и `advert_open` (открытие карточки объявления) видно, что поиск более популярен среди пользователей. \n",
    "    \n",
    "На втором месте по посещаемости занимает событипе `photos_show` (просмотр фотографий в объявлении). Это говорит о том, что пользователи любят просматривать фотографии.\n",
    "    \n",
    "Затем с примерно одинаковыми показателями следуют события `show_contacts` (пользователь нажал на кнопку \"посмотреть номер телефона\" на карточке объявления) и  `map` (пользователь открыл карту размещенных объявлений).\n",
    "    \n",
    "Также следует отметить, что пользователи чаще просматривают контакты, чем совершают звонки через приложение. У события `contacts_call` (пользователь позвонил по номеру телефона на карточке объявления) самый низкий показатель. Возможно, пользователи либо звонят \"по-старинке\", или делятся контактом с родтвенниками."
   ]
  },
  {
   "cell_type": "markdown",
   "id": "38dad96d",
   "metadata": {},
   "source": [
    "#### 3.3.1. Частота действий по дням в разрезе по событиям"
   ]
  },
  {
   "cell_type": "markdown",
   "id": "104b723c",
   "metadata": {},
   "source": [
    "Дополнительно посмотрю распределение событий по дням в разрезе по событиям, но предварительно исключив `tips_show`, `favorites_add`, `contacts_call`. Просмотр главной страницы затмевает все остальные события, а добавление в избранное и звонки через приложение имеют слишком низкие показатели."
   ]
  },
  {
   "cell_type": "code",
   "execution_count": 31,
   "id": "42e89a2e",
   "metadata": {
    "scrolled": true
   },
   "outputs": [],
   "source": [
    "# подготовлю данные и сделаю сводную таблицу\n",
    "action = (\n",
    "    sessions.query('event_name != [\"tips_show\", \"favorites_add\", \"contacts_call\"]')\n",
    "    .groupby(['session','event_name'])\n",
    "    .agg({'event_time':'count'})\n",
    "    .reset_index()\n",
    ")\n",
    "action['session'] = action['session'].astype (str)"
   ]
  },
  {
   "cell_type": "code",
   "execution_count": 32,
   "id": "f615a08e",
   "metadata": {},
   "outputs": [
    {
     "data": {
      "image/png": "[encoded data removed]",
      "text/plain": [
       "<Figure size 1080x432 with 1 Axes>"
      ]
     },
     "metadata": {
      "needs_background": "light"
     },
     "output_type": "display_data"
    }
   ],
   "source": [
    "# проиллюстрирую полученную информацию\n",
    "plt.figure(figsize=(15, 6))\n",
    "sns.lineplot(x='session', y='event_time', hue='event_name', marker= 'h', data=action)\n",
    "plt.title('Распределение событий по дням')\n",
    "plt.xlabel('Дата')\n",
    "plt.ylabel('Количество событий')\n",
    "plt.xticks(rotation=90)\n",
    "plt.legend()\n",
    "plt.grid()\n",
    "plt.show()"
   ]
  },
  {
   "cell_type": "markdown",
   "id": "da7878c4",
   "metadata": {},
   "source": [
    "На графике отчетливо видно, что пользователи очень любят смотреть фотографии. Поиск тоже очень популярен. А кликают по рекомендованным объявлением не охотно. Особо выделяется первый день исследуемого периода - 07-10-2019, когда событие  \"просмотр объявлений\" показывает особо высокий уровень.\n",
    "    \n",
    "Также можно отметить рост активности пользователей до 26 октября 2019 года и далее резкий провал на 6 дней.\n",
    "    \n",
    "Что касается нашего целевого события `show_contacts` (пользователь нажал на кнопку \"посмотреть номер телефона\" на карточке объявления), то оно показывает рост на второй неделе и держит показатель примерно на одном уровне, за исключением 4 дней."
   ]
  },
  {
   "cell_type": "markdown",
   "id": "04f85071",
   "metadata": {},
   "source": [
    "### 3.4 Конверсия в целевое действие - просмотр контактов."
   ]
  },
  {
   "cell_type": "markdown",
   "id": "803ff29d",
   "metadata": {},
   "source": [
    "#### 3.4.1. Конверсия в целевое событие по каждому пользователю"
   ]
  },
  {
   "cell_type": "code",
   "execution_count": 33,
   "id": "e499a16c",
   "metadata": {},
   "outputs": [],
   "source": [
    "# составлю сводную таблицу пользователей, которые совершили целевое событие\n",
    "conversion =(\n",
    "    df.query('event_name==\"show_contacts\"')\n",
    "    .groupby('user_id', as_index=False)\n",
    "    .agg({'event_name':'count'})\n",
    "    .rename(columns={'event_name':'show'})\n",
    ")"
   ]
  },
  {
   "cell_type": "code",
   "execution_count": 34,
   "id": "0e4927ed",
   "metadata": {
    "scrolled": true
   },
   "outputs": [],
   "source": [
    "# составлю сводную таблицу пользователей и всех событий\n",
    "total = (\n",
    "    df.groupby('user_id', as_index=False)\n",
    "    .agg({'event_time':'count'})\n",
    "    .rename(columns={'event_time':'visits'})\n",
    ")"
   ]
  },
  {
   "cell_type": "code",
   "execution_count": 35,
   "id": "0288f00a",
   "metadata": {
    "scrolled": false
   },
   "outputs": [
    {
     "data": {
      "text/html": [
       "<div>\n",
       "<style scoped>\n",
       "    .dataframe tbody tr th:only-of-type {\n",
       "        vertical-align: middle;\n",
       "    }\n",
       "\n",
       "    .dataframe tbody tr th {\n",
       "        vertical-align: top;\n",
       "    }\n",
       "\n",
       "    .dataframe thead th {\n",
       "        text-align: right;\n",
       "    }\n",
       "</style>\n",
       "<table border=\"1\" class=\"dataframe\">\n",
       "  <thead>\n",
       "    <tr style=\"text-align: right;\">\n",
       "      <th></th>\n",
       "      <th>user_id</th>\n",
       "      <th>visits</th>\n",
       "      <th>show</th>\n",
       "      <th>conversion</th>\n",
       "    </tr>\n",
       "  </thead>\n",
       "  <tbody>\n",
       "    <tr>\n",
       "      <th>504</th>\n",
       "      <td>1aa74691-c80e-47d7-94d2-1701efcad80e</td>\n",
       "      <td>2</td>\n",
       "      <td>2.0</td>\n",
       "      <td>1.0</td>\n",
       "    </tr>\n",
       "    <tr>\n",
       "      <th>2331</th>\n",
       "      <td>89db3808-5cc0-4d60-9f96-24a9139c3727</td>\n",
       "      <td>11</td>\n",
       "      <td>11.0</td>\n",
       "      <td>1.0</td>\n",
       "    </tr>\n",
       "    <tr>\n",
       "      <th>963</th>\n",
       "      <td>389ba51a-f86f-47ba-8e11-a70e8e92e31e</td>\n",
       "      <td>6</td>\n",
       "      <td>6.0</td>\n",
       "      <td>1.0</td>\n",
       "    </tr>\n",
       "    <tr>\n",
       "      <th>3547</th>\n",
       "      <td>d444b122-162d-4ee1-9999-9b439e7faad2</td>\n",
       "      <td>6</td>\n",
       "      <td>6.0</td>\n",
       "      <td>1.0</td>\n",
       "    </tr>\n",
       "    <tr>\n",
       "      <th>2216</th>\n",
       "      <td>849b6088-6a7c-4ff7-a3f3-11a5675efaac</td>\n",
       "      <td>18</td>\n",
       "      <td>18.0</td>\n",
       "      <td>1.0</td>\n",
       "    </tr>\n",
       "  </tbody>\n",
       "</table>\n",
       "</div>"
      ],
      "text/plain": [
       "                                   user_id  visits  show  conversion\n",
       "504   1aa74691-c80e-47d7-94d2-1701efcad80e       2   2.0         1.0\n",
       "2331  89db3808-5cc0-4d60-9f96-24a9139c3727      11  11.0         1.0\n",
       "963   389ba51a-f86f-47ba-8e11-a70e8e92e31e       6   6.0         1.0\n",
       "3547  d444b122-162d-4ee1-9999-9b439e7faad2       6   6.0         1.0\n",
       "2216  849b6088-6a7c-4ff7-a3f3-11a5675efaac      18  18.0         1.0"
      ]
     },
     "execution_count": 35,
     "metadata": {},
     "output_type": "execute_result"
    }
   ],
   "source": [
    "# соеденю две полученные таблицы, заменю пропуски на 0, посчитаю конверсию и отсортирую по убываанию\n",
    "conversion = pd.merge(total, conversion, on='user_id', how='left')\n",
    "conversion['show'] = conversion['show'].fillna(0)\n",
    "conversion['conversion'] = conversion['show'] / conversion['visits']\n",
    "conversion.sort_values(by='conversion', ascending=False).head(5)"
   ]
  },
  {
   "cell_type": "code",
   "execution_count": 36,
   "id": "69016eb1",
   "metadata": {
    "scrolled": false
   },
   "outputs": [
    {
     "data": {
      "image/png": "[encoded data removed]",
      "text/plain": [
       "<Figure size 360x360 with 1 Axes>"
      ]
     },
     "metadata": {
      "needs_background": "light"
     },
     "output_type": "display_data"
    }
   ],
   "source": [
    "# визуализирую полученные данные\n",
    "sns.catplot(kind='boxen', y='conversion', data=conversion)\n",
    "plt.title('Конверсия в целевое событие по пользователям')\n",
    "plt.xlabel('Количество пользователей')\n",
    "plt.ylabel('Коэффициент конверсии')\n",
    "plt.show()"
   ]
  },
  {
   "cell_type": "markdown",
   "id": "986faa73",
   "metadata": {},
   "source": [
    "**Вывод:** На графике видно количество пользователей с 0 конверсией, их очень много."
   ]
  },
  {
   "cell_type": "markdown",
   "id": "792da0ed",
   "metadata": {},
   "source": [
    "#### 3.4.1. Конверсия в целевое событие по всем пользователям"
   ]
  },
  {
   "cell_type": "code",
   "execution_count": 37,
   "id": "a3004579",
   "metadata": {},
   "outputs": [],
   "source": [
    "# посчитаю уникальных пользователей, которые совершили целевое событие\n",
    "contacts_show_df = df.query('event_name == \"show_contacts\"')"
   ]
  },
  {
   "cell_type": "code",
   "execution_count": 38,
   "id": "6fb7bced",
   "metadata": {},
   "outputs": [
    {
     "name": "stdout",
     "output_type": "stream",
     "text": [
      "22.85%\n"
     ]
    }
   ],
   "source": [
    "# посчитаю конверсию всех пользователей\n",
    "print(f\"{(contacts_show_df['user_id'].nunique() / df['user_id'].nunique()):.2%}\")"
   ]
  },
  {
   "cell_type": "markdown",
   "id": "b5baf2ad",
   "metadata": {},
   "source": [
    "**Вывод:** По полученным рультатам до целевого события - просмотр контактов, доходят 22.85% пользователей. Не очень хороший показатель, так как почти 77% это просто зрители. Какие могут быть причины?\n",
    "- не находит нужного объявления, значит необходимо привлечение новых пользователей;\n",
    "- при таком огромном количестве просмотров рекондаций, вполне вероятно, что пользователь листает ленту и забывает зачем пришёл в приложение;\n",
    "- при самостоятельном поиске пользователь охотнее просматривает контакты продаца, но поиском воспользовались мало человек. Возможно поиск \"спрятан\" и его необходимо перенести в видное место."
   ]
  },
  {
   "cell_type": "markdown",
   "id": "c725e44b",
   "metadata": {},
   "source": [
    "## 3. Сегментирование пользователей на основе действий"
   ]
  },
  {
   "cell_type": "markdown",
   "id": "98e540f2",
   "metadata": {},
   "source": [
    "Для более глубокого анализа я сегментировала посетителей по времени активности. Для катигоризации использовала данные о первом посещении. \n",
    "    \n",
    "Интересно посмотреть в какое время дня посетители чаще заходят в приложение и активнее возвращаются. Возможно, день - это самое удачное время, чтобы поискать нужную вещь, посмотреть контакт и договориться о встрече на вечер. А может лучше утром напомнить пользователю с помощью пуш-уведомления, чтобы по пути на работу зайти в приложение. Интересно, а как себя ведут ночные пользователи?"
   ]
  },
  {
   "cell_type": "code",
   "execution_count": 39,
   "id": "f1f308fb",
   "metadata": {
    "scrolled": true
   },
   "outputs": [],
   "source": [
    "# для сегментирования пользователей по времени суток добавляю столбец со значением часа\n",
    "profiles['first_hour'] = profiles['first_time'].dt.hour\n",
    "profiles['first_hour'] = profiles['first_hour'].astype (int)"
   ]
  },
  {
   "cell_type": "code",
   "execution_count": 40,
   "id": "cfdb6b6c",
   "metadata": {},
   "outputs": [],
   "source": [
    "# пишу функцию для категоризации данных\n",
    "def categorize_time(hour):\n",
    "    try:\n",
    "        if 6 <= hour <= 11:\n",
    "            return 'Утро'\n",
    "        elif 12 <= hour <= 17:\n",
    "            return 'День'\n",
    "        elif 18 <= hour <= 23:\n",
    "            return 'Вечер' \n",
    "        elif 0 <= hour <= 5:\n",
    "            return 'Ночь'\n",
    "    except:\n",
    "        pass"
   ]
  },
  {
   "cell_type": "code",
   "execution_count": 41,
   "id": "9e4ab182",
   "metadata": {},
   "outputs": [],
   "source": [
    "# категоризирую данные\n",
    "profiles['time_of_day'] = profiles['first_hour'].apply(categorize_time)"
   ]
  },
  {
   "cell_type": "code",
   "execution_count": 42,
   "id": "a953daa7",
   "metadata": {},
   "outputs": [
    {
     "data": {
      "text/html": [
       "<div>\n",
       "<style scoped>\n",
       "    .dataframe tbody tr th:only-of-type {\n",
       "        vertical-align: middle;\n",
       "    }\n",
       "\n",
       "    .dataframe tbody tr th {\n",
       "        vertical-align: top;\n",
       "    }\n",
       "\n",
       "    .dataframe thead th {\n",
       "        text-align: right;\n",
       "    }\n",
       "</style>\n",
       "<table border=\"1\" class=\"dataframe\">\n",
       "  <thead>\n",
       "    <tr style=\"text-align: right;\">\n",
       "      <th></th>\n",
       "      <th>user_id</th>\n",
       "      <th>first_time</th>\n",
       "      <th>show</th>\n",
       "      <th>source</th>\n",
       "      <th>event_time</th>\n",
       "      <th>event_name</th>\n",
       "      <th>activ_week</th>\n",
       "      <th>first_week</th>\n",
       "      <th>lifetime</th>\n",
       "      <th>first_hour</th>\n",
       "      <th>time_of_day</th>\n",
       "    </tr>\n",
       "  </thead>\n",
       "  <tbody>\n",
       "    <tr>\n",
       "      <th>0</th>\n",
       "      <td>0001b1d5-b74a-4cbf-aeb0-7df5947bf349</td>\n",
       "      <td>2019-10-07 13:39:45.989359</td>\n",
       "      <td>False</td>\n",
       "      <td>other</td>\n",
       "      <td>2019-10-07 13:39:45.989359</td>\n",
       "      <td>tips_show</td>\n",
       "      <td>2019-10-07</td>\n",
       "      <td>2019-10-07</td>\n",
       "      <td>0</td>\n",
       "      <td>13</td>\n",
       "      <td>День</td>\n",
       "    </tr>\n",
       "    <tr>\n",
       "      <th>1</th>\n",
       "      <td>0001b1d5-b74a-4cbf-aeb0-7df5947bf349</td>\n",
       "      <td>2019-10-07 13:39:45.989359</td>\n",
       "      <td>False</td>\n",
       "      <td>other</td>\n",
       "      <td>2019-10-07 13:40:31.052909</td>\n",
       "      <td>tips_show</td>\n",
       "      <td>2019-10-07</td>\n",
       "      <td>2019-10-07</td>\n",
       "      <td>0</td>\n",
       "      <td>13</td>\n",
       "      <td>День</td>\n",
       "    </tr>\n",
       "  </tbody>\n",
       "</table>\n",
       "</div>"
      ],
      "text/plain": [
       "                                user_id                 first_time   show  \\\n",
       "0  0001b1d5-b74a-4cbf-aeb0-7df5947bf349 2019-10-07 13:39:45.989359  False   \n",
       "1  0001b1d5-b74a-4cbf-aeb0-7df5947bf349 2019-10-07 13:39:45.989359  False   \n",
       "\n",
       "  source                 event_time event_name  activ_week  first_week  \\\n",
       "0  other 2019-10-07 13:39:45.989359  tips_show  2019-10-07  2019-10-07   \n",
       "1  other 2019-10-07 13:40:31.052909  tips_show  2019-10-07  2019-10-07   \n",
       "\n",
       "   lifetime  first_hour time_of_day  \n",
       "0         0          13        День  \n",
       "1         0          13        День  "
      ]
     },
     "execution_count": 42,
     "metadata": {},
     "output_type": "execute_result"
    }
   ],
   "source": [
    "# вывожу на экран для просмотра результата\n",
    "profiles.head(2)"
   ]
  },
  {
   "cell_type": "code",
   "execution_count": 43,
   "id": "53ecd85b",
   "metadata": {},
   "outputs": [
    {
     "data": {
      "text/html": [
       "<div>\n",
       "<style scoped>\n",
       "    .dataframe tbody tr th:only-of-type {\n",
       "        vertical-align: middle;\n",
       "    }\n",
       "\n",
       "    .dataframe tbody tr th {\n",
       "        vertical-align: top;\n",
       "    }\n",
       "\n",
       "    .dataframe thead th {\n",
       "        text-align: right;\n",
       "    }\n",
       "</style>\n",
       "<table border=\"1\" class=\"dataframe\">\n",
       "  <thead>\n",
       "    <tr style=\"text-align: right;\">\n",
       "      <th></th>\n",
       "      <th>user_id</th>\n",
       "      <th>time_of_day</th>\n",
       "      <th>source</th>\n",
       "    </tr>\n",
       "  </thead>\n",
       "  <tbody>\n",
       "    <tr>\n",
       "      <th>0</th>\n",
       "      <td>0001b1d5-b74a-4cbf-aeb0-7df5947bf349</td>\n",
       "      <td>День</td>\n",
       "      <td>35</td>\n",
       "    </tr>\n",
       "    <tr>\n",
       "      <th>1</th>\n",
       "      <td>00157779-810c-4498-9e05-a1e9e3cedf93</td>\n",
       "      <td>Вечер</td>\n",
       "      <td>71</td>\n",
       "    </tr>\n",
       "    <tr>\n",
       "      <th>2</th>\n",
       "      <td>00463033-5717-4bf1-91b4-09183923b9df</td>\n",
       "      <td>День</td>\n",
       "      <td>10</td>\n",
       "    </tr>\n",
       "    <tr>\n",
       "      <th>3</th>\n",
       "      <td>004690c3-5a84-4bb7-a8af-e0c8f8fca64e</td>\n",
       "      <td>Вечер</td>\n",
       "      <td>32</td>\n",
       "    </tr>\n",
       "    <tr>\n",
       "      <th>4</th>\n",
       "      <td>00551e79-152e-4441-9cf7-565d7eb04090</td>\n",
       "      <td>День</td>\n",
       "      <td>8</td>\n",
       "    </tr>\n",
       "    <tr>\n",
       "      <th>...</th>\n",
       "      <td>...</td>\n",
       "      <td>...</td>\n",
       "      <td>...</td>\n",
       "    </tr>\n",
       "    <tr>\n",
       "      <th>4288</th>\n",
       "      <td>ffab8d8a-30bb-424a-a3ab-0b63ebbf7b07</td>\n",
       "      <td>День</td>\n",
       "      <td>17</td>\n",
       "    </tr>\n",
       "    <tr>\n",
       "      <th>4289</th>\n",
       "      <td>ffc01466-fdb1-4460-ae94-e800f52eb136</td>\n",
       "      <td>Вечер</td>\n",
       "      <td>7</td>\n",
       "    </tr>\n",
       "    <tr>\n",
       "      <th>4290</th>\n",
       "      <td>ffcf50d9-293c-4254-8243-4890b030b238</td>\n",
       "      <td>Утро</td>\n",
       "      <td>2</td>\n",
       "    </tr>\n",
       "    <tr>\n",
       "      <th>4291</th>\n",
       "      <td>ffe68f10-e48e-470e-be9b-eeb93128ff1a</td>\n",
       "      <td>День</td>\n",
       "      <td>13</td>\n",
       "    </tr>\n",
       "    <tr>\n",
       "      <th>4292</th>\n",
       "      <td>fffb9e79-b927-4dbb-9b48-7fd09b23a62b</td>\n",
       "      <td>Ночь</td>\n",
       "      <td>303</td>\n",
       "    </tr>\n",
       "  </tbody>\n",
       "</table>\n",
       "<p>4293 rows × 3 columns</p>\n",
       "</div>"
      ],
      "text/plain": [
       "                                   user_id time_of_day  source\n",
       "0     0001b1d5-b74a-4cbf-aeb0-7df5947bf349        День      35\n",
       "1     00157779-810c-4498-9e05-a1e9e3cedf93       Вечер      71\n",
       "2     00463033-5717-4bf1-91b4-09183923b9df        День      10\n",
       "3     004690c3-5a84-4bb7-a8af-e0c8f8fca64e       Вечер      32\n",
       "4     00551e79-152e-4441-9cf7-565d7eb04090        День       8\n",
       "...                                    ...         ...     ...\n",
       "4288  ffab8d8a-30bb-424a-a3ab-0b63ebbf7b07        День      17\n",
       "4289  ffc01466-fdb1-4460-ae94-e800f52eb136       Вечер       7\n",
       "4290  ffcf50d9-293c-4254-8243-4890b030b238        Утро       2\n",
       "4291  ffe68f10-e48e-470e-be9b-eeb93128ff1a        День      13\n",
       "4292  fffb9e79-b927-4dbb-9b48-7fd09b23a62b        Ночь     303\n",
       "\n",
       "[4293 rows x 3 columns]"
      ]
     },
     "execution_count": 43,
     "metadata": {},
     "output_type": "execute_result"
    }
   ],
   "source": [
    "# делаю сводную таблицу полученных данных\n",
    "user = profiles.groupby(['user_id','time_of_day'])['source'].count().reset_index()\n",
    "user"
   ]
  },
  {
   "cell_type": "code",
   "execution_count": 44,
   "id": "5777f4bf",
   "metadata": {},
   "outputs": [
    {
     "data": {
      "text/plain": [
       "time_of_day\n",
       "Вечер    1416\n",
       "День     1713\n",
       "Ночь      221\n",
       "Утро      943\n",
       "Name: user_id, dtype: int64"
      ]
     },
     "execution_count": 44,
     "metadata": {},
     "output_type": "execute_result"
    }
   ],
   "source": [
    "# смотрю количество пользователей в группах.\n",
    "user.groupby('time_of_day')['user_id'].count()"
   ]
  },
  {
   "cell_type": "markdown",
   "id": "2a249643",
   "metadata": {},
   "source": [
    "Распределение по группам получилось не слишком разрозненным. Самая маленькая группа НОЧЬ больше, чем 10% от смой большой группы - ДЕНЬ. \n",
    "    \n",
    "Категоризировала пользователей по часу первого посещения.\n",
    "    \n",
    "Сейчас необходимо посчитать Retention Rate и конверсии по полученным группам."
   ]
  },
  {
   "cell_type": "markdown",
   "id": "92264395",
   "metadata": {},
   "source": [
    "### 3.1. Retention Rate по полученным группам"
   ]
  },
  {
   "cell_type": "markdown",
   "id": "108909b0",
   "metadata": {},
   "source": [
    "#### 3.1.1. Группа \"утро\""
   ]
  },
  {
   "cell_type": "code",
   "execution_count": 47,
   "id": "8901936d",
   "metadata": {},
   "outputs": [],
   "source": [
    "# делаю срез по утренним пользователям\n",
    "m = profiles.query('time_of_day == \"Утро\"')\n",
    "m_users = m['user_id'].to_list()\n",
    "# расситываю удержание\n",
    "moning = profiles.query('user_id in @m_users').groupby(['first_week','lifetime']).agg({'user_id':'nunique'}).reset_index()\n",
    "cohort_sizes_m = (\n",
    "        profiles.query('user_id in @m_users')\n",
    "        .groupby('first_week')\n",
    "        .agg({'user_id': 'nunique'})\n",
    "        .rename(columns={'user_id': 'cohort_size'})\n",
    "        .reset_index()\n",
    "    )  \n",
    "cohorts_m = cohort_sizes_m.merge(moning, on='first_week', how='left').fillna(0)\n",
    "cohorts_m['retention'] = cohorts_m['user_id']/cohorts_m['cohort_size']"
   ]
  },
  {
   "cell_type": "code",
   "execution_count": 48,
   "id": "e1aa066b",
   "metadata": {
    "scrolled": true
   },
   "outputs": [],
   "source": [
    "# составлю сводную таблицу удержания по неделям\n",
    "retention_m = cohorts_m.pivot_table(index='first_week',columns='lifetime',values='retention',aggfunc='sum').reset_index()"
   ]
  },
  {
   "cell_type": "code",
   "execution_count": 49,
   "id": "b0eb0d16",
   "metadata": {
    "scrolled": true
   },
   "outputs": [
    {
     "data": {
      "image/png": "[encoded data removed]",
      "text/plain": [
       "<Figure size 360x216 with 2 Axes>"
      ]
     },
     "metadata": {
      "needs_background": "light"
     },
     "output_type": "display_data"
    }
   ],
   "source": [
    "# визуализирую полученные данные\n",
    "plt.figure(figsize=(5,3))\n",
    "sns.heatmap(\n",
    "    cohorts_m.pivot_table(index='first_week',columns='lifetime',values='retention',aggfunc='sum'), \n",
    "    annot=True, \n",
    "    fmt='.1%',\n",
    "    linewidths=1,\n",
    "    linecolor='gray'\n",
    ")\n",
    "plt.title('Тепловая карта Retention Rate для группы \"Утро\"')\n",
    "plt.xlabel('Лайфтайм')\n",
    "plt.ylabel('Недели')\n",
    "plt.show()"
   ]
  },
  {
   "cell_type": "markdown",
   "id": "898e12f4",
   "metadata": {},
   "source": [
    "#### 3.1.2. Группа \"день\""
   ]
  },
  {
   "cell_type": "code",
   "execution_count": 50,
   "id": "28e0377f",
   "metadata": {
    "scrolled": true
   },
   "outputs": [
    {
     "data": {
      "image/png": "[encoded data removed]",
      "text/plain": [
       "<Figure size 360x216 with 2 Axes>"
      ]
     },
     "metadata": {
      "needs_background": "light"
     },
     "output_type": "display_data"
    }
   ],
   "source": [
    "# делаю срез по утренним пользователям\n",
    "d = profiles.query('time_of_day == \"День\"')\n",
    "d_users = d['user_id'].to_list()\n",
    "# расситываю удержание\n",
    "day = profiles.query('user_id in @d_users').groupby(['first_week','lifetime']).agg({'user_id':'nunique'}).reset_index()\n",
    "cohort_sizes_d = (\n",
    "        profiles.query('user_id in @d_users')\n",
    "        .groupby('first_week')\n",
    "        .agg({'user_id': 'nunique'})\n",
    "        .rename(columns={'user_id': 'cohort_size'})\n",
    "        .reset_index()\n",
    "    )  \n",
    "cohorts_d = cohort_sizes_d.merge(day, on='first_week', how='left').fillna(0)\n",
    "cohorts_d['retention'] = cohorts_d['user_id']/cohorts_d['cohort_size']\n",
    "# составлю сводную таблицу удержания по неделям\n",
    "retention_d = cohorts_d.pivot_table(index='first_week',columns='lifetime',values='retention',aggfunc='sum').reset_index()\n",
    "# визуализирую полученные данные\n",
    "plt.figure(figsize=(5,3))\n",
    "sns.heatmap(\n",
    "    cohorts_d.pivot_table(index='first_week',columns='lifetime',values='retention',aggfunc='sum'), \n",
    "    annot=True, \n",
    "    fmt='.1%',\n",
    "    linewidths=1,\n",
    "    linecolor='gray'\n",
    ")\n",
    "plt.title('Тепловая карта Retention Rate для группы \"День\"')\n",
    "plt.xlabel('Лайфтайм')\n",
    "plt.ylabel('Недели')\n",
    "plt.show()"
   ]
  },
  {
   "cell_type": "markdown",
   "id": "2c9ba88d",
   "metadata": {},
   "source": [
    "#### 3.1.3 Группа \"Вечер\""
   ]
  },
  {
   "cell_type": "code",
   "execution_count": 51,
   "id": "9cee39a1",
   "metadata": {},
   "outputs": [
    {
     "data": {
      "image/png": "[encoded data removed]",
      "text/plain": [
       "<Figure size 360x216 with 2 Axes>"
      ]
     },
     "metadata": {
      "needs_background": "light"
     },
     "output_type": "display_data"
    }
   ],
   "source": [
    "# делаю срез по утренним пользователям\n",
    "е = profiles.query('time_of_day == \"Вечер\"')\n",
    "е_users = е['user_id'].to_list()\n",
    "# расситываю удержание\n",
    "evening = profiles.query('user_id in @е_users').groupby(['first_week','lifetime']).agg({'user_id':'nunique'}).reset_index()\n",
    "cohort_sizes_е = (\n",
    "        profiles.query('user_id in @е_users')\n",
    "        .groupby('first_week')\n",
    "        .agg({'user_id': 'nunique'})\n",
    "        .rename(columns={'user_id': 'cohort_size'})\n",
    "        .reset_index()\n",
    "    )  \n",
    "cohorts_е = cohort_sizes_е.merge(evening, on='first_week', how='left').fillna(0)\n",
    "cohorts_е['retention'] = cohorts_е['user_id']/cohorts_е['cohort_size']\n",
    "# составлю сводную таблицу удержания по неделям\n",
    "retention_е = cohorts_е.pivot_table(index='first_week',columns='lifetime',values='retention',aggfunc='sum').reset_index()\n",
    "# визуализирую полученные данные\n",
    "plt.figure(figsize=(5,3))\n",
    "sns.heatmap(\n",
    "    cohorts_е.pivot_table(index='first_week',columns='lifetime',values='retention',aggfunc='sum'), \n",
    "    annot=True, \n",
    "    fmt='.1%',\n",
    "    linewidths=1,\n",
    "    linecolor='gray'\n",
    ")\n",
    "plt.title('Тепловая карта Retention Rate для группы \"Вечер\"')\n",
    "plt.xlabel('Лайфтайм')\n",
    "plt.ylabel('Недели')\n",
    "plt.show()"
   ]
  },
  {
   "cell_type": "markdown",
   "id": "9e7ca7e8",
   "metadata": {},
   "source": [
    "#### 3.1.4. Группа \"Ночь\""
   ]
  },
  {
   "cell_type": "code",
   "execution_count": 52,
   "id": "166d0fc8",
   "metadata": {
    "scrolled": false
   },
   "outputs": [
    {
     "data": {
      "image/png": "[encoded data removed]",
      "text/plain": [
       "<Figure size 360x216 with 2 Axes>"
      ]
     },
     "metadata": {
      "needs_background": "light"
     },
     "output_type": "display_data"
    }
   ],
   "source": [
    "\n",
    "# делаю срез по утренним пользователям\n",
    "n = profiles.query('time_of_day == \"Ночь\"')\n",
    "n_users = n['user_id'].to_list()\n",
    "# расситываю удержание\n",
    "night = profiles.query('user_id in @n_users').groupby(['first_week','lifetime']).agg({'user_id':'nunique'}).reset_index()\n",
    "cohort_sizes_n = (\n",
    "        profiles.query('user_id in @n_users')\n",
    "        .groupby('first_week')\n",
    "        .agg({'user_id': 'nunique'})\n",
    "        .rename(columns={'user_id': 'cohort_size'})\n",
    "        .reset_index()\n",
    "    )  \n",
    "cohorts_n = cohort_sizes_n.merge(night, on='first_week', how='left').fillna(0)\n",
    "cohorts_n['retention'] = cohorts_n['user_id']/cohorts_n['cohort_size']\n",
    "# составлю сводную таблицу удержания по неделям\n",
    "retention_n = cohorts_n.pivot_table(index='first_week',columns='lifetime',values='retention',aggfunc='sum').reset_index()\n",
    "# визуализирую полученные данные\n",
    "plt.figure(figsize=(5,3))\n",
    "sns.heatmap(\n",
    "    cohorts_n.pivot_table(index='first_week',columns='lifetime',values='retention',aggfunc='sum'), \n",
    "    annot=True, \n",
    "    fmt='.1%',\n",
    "    linewidths=1,\n",
    "    linecolor='gray'\n",
    ")\n",
    "plt.title('Тепловая карта Retention Rate для группы \"Ночь\"')\n",
    "plt.xlabel('Лайфтайм')\n",
    "plt.ylabel('Недели')\n",
    "plt.show()"
   ]
  },
  {
   "cell_type": "markdown",
   "id": "c95e0269",
   "metadata": {},
   "source": [
    "#### 3.1.5. Вывод по Retention Rate по сегментированным группам группам"
   ]
  },
  {
   "cell_type": "markdown",
   "id": "0c1b3393",
   "metadata": {},
   "source": [
    "Группа утренних пользователей полказывает самое плохое удержание. На второй неделе возвращаются 17.2%-22.7% пользователей, а на четвертой всего 9.8%\n",
    "Самые высокие показатели возвращаемости показывают ночные пользователи. Вторая неделя - 25.0%-32.4%, на четвертой неделе удерживается 17.5%.\n",
    "Интересная вечерняя группа. На второй неделе показатели не плохи (23.1%-26.8%), но на четвертой неделе самый худший показатель - 8.3%.\n",
    "\n",
    "По результату исследование оказалось, что самые активные пользователи - ночные. Интересный получитлся результат. На втором месте по активности - вечереняя, но они стали плохо возвращаться на четвертой неделе, необходимо обратить на них внимание. Утро и день не оправдали ожидание.\n",
    "\n",
    "**Целевую группу по Retention Rate** рекомендую выбрать вечернюю. У неё хороший показатель на второй неделе, но на четвертой самый низкий показатель. Группе вечерних пользователей рекомендую рассылать пуш-уведомления. **Альтернативная группа** - утреняя. пользователи этой группы неохотно возвращаются в приложение. Им тоже рассылаем пуш-уведомления."
   ]
  },
  {
   "cell_type": "markdown",
   "id": "009b0730",
   "metadata": {},
   "source": [
    "### 3.2. Конверсия в целевое действие - просмотр контактов по полученным группам"
   ]
  },
  {
   "cell_type": "markdown",
   "id": "73ed1fee",
   "metadata": {},
   "source": [
    "#### 3.2.1. Группа \"Утро\""
   ]
  },
  {
   "cell_type": "code",
   "execution_count": 53,
   "id": "4eaa628b",
   "metadata": {},
   "outputs": [
    {
     "name": "stdout",
     "output_type": "stream",
     "text": [
      "23.22%\n"
     ]
    }
   ],
   "source": [
    "# посчитаю уникальных пользователей, которые совершили целевое событие утром\n",
    "contacts_show_df_m = profiles.query('event_name == \"show_contacts\" & time_of_day == \"Утро\"')\n",
    "df_m = profiles.query('time_of_day == \"Утро\"')\n",
    "# посчитаю конверсию всех пользователей\n",
    "print(f\"{(contacts_show_df_m['user_id'].nunique() / df_m['user_id'].nunique()):.2%}\")"
   ]
  },
  {
   "cell_type": "markdown",
   "id": "630a0ecf",
   "metadata": {},
   "source": [
    "#### 3.2.2. Группа \"День\""
   ]
  },
  {
   "cell_type": "code",
   "execution_count": 54,
   "id": "90cccea4",
   "metadata": {},
   "outputs": [
    {
     "name": "stdout",
     "output_type": "stream",
     "text": [
      "24.52%\n"
     ]
    }
   ],
   "source": [
    "# посчитаю уникальных пользователей, которые совершили целевое событие днём\n",
    "contacts_show_df_d = profiles.query('event_name == \"show_contacts\" & time_of_day == \"День\"')\n",
    "df_d = profiles.query('time_of_day == \"День\"')\n",
    "# посчитаю конверсию всех пользователей\n",
    "print(f\"{(contacts_show_df_d['user_id'].nunique() / df_d['user_id'].nunique()):.2%}\")"
   ]
  },
  {
   "cell_type": "markdown",
   "id": "8707c2f4",
   "metadata": {},
   "source": [
    "#### 3.2.3. Группа \"Вечер\""
   ]
  },
  {
   "cell_type": "code",
   "execution_count": 55,
   "id": "bf8c9275",
   "metadata": {},
   "outputs": [
    {
     "name": "stdout",
     "output_type": "stream",
     "text": [
      "21.33%\n"
     ]
    }
   ],
   "source": [
    "# посчитаю уникальных пользователей, которые совершили целевое событие вечером\n",
    "contacts_show_df_e = profiles.query('event_name == \"show_contacts\" & time_of_day == \"Вечер\"')\n",
    "df_e = profiles.query('time_of_day == \"Вечер\"')\n",
    "# посчитаю конверсию всех пользователей\n",
    "print(f\"{(contacts_show_df_e['user_id'].nunique() / df_e['user_id'].nunique()):.2%}\")"
   ]
  },
  {
   "cell_type": "markdown",
   "id": "e6f1775b",
   "metadata": {},
   "source": [
    "#### 3.2.4. Группа \"Ночь\""
   ]
  },
  {
   "cell_type": "code",
   "execution_count": 56,
   "id": "c0cf6a22",
   "metadata": {},
   "outputs": [
    {
     "name": "stdout",
     "output_type": "stream",
     "text": [
      "18.10%\n"
     ]
    }
   ],
   "source": [
    "# посчитаю уникальных пользователей, которые совершили целевое событие ночью\n",
    "contacts_show_df_n = profiles.query('event_name == \"show_contacts\" & time_of_day == \"Ночь\"')\n",
    "df_n = profiles.query('time_of_day == \"Ночь\"')\n",
    "# посчитаю конверсию всех пользователей\n",
    "print(f\"{(contacts_show_df_n['user_id'].nunique() / df_n['user_id'].nunique()):.2%}\")"
   ]
  },
  {
   "cell_type": "markdown",
   "id": "5e266fa5",
   "metadata": {},
   "source": [
    "#### 3.2.5. Вывод по конверсиям в целевое действие по сегментированным группам"
   ]
  },
  {
   "cell_type": "markdown",
   "id": "49cd2eae",
   "metadata": {},
   "source": [
    "Самый высокий показатель конверсии в целевое действие показала группа дневных пользователей - 24.52%. Немного поменьше утренняя группа - 23.22% и вечерняя - 21.33%. Самый низкий показатель у ночной группы - 18.10%.\n",
    "\n",
    "Как и предпологала, днём лучше смотрят контакты продавца. На втором месте утренние пользователи, как раз и необходимо \"позвать\" в приложение.\n",
    "\n",
    "**Целевую группу по конверсии** в целевое событие рекомендую выбрать утреннюю. Предлагаю отправлять пуш-уведомления о появлении новых объявлений из группы поиска и/или напоминание об избранном. **Альтернативная группа** - вечерняя."
   ]
  },
  {
   "cell_type": "markdown",
   "id": "7e1fa278",
   "metadata": {},
   "source": [
    "## 5. Проверика гипотез"
   ]
  },
  {
   "cell_type": "markdown",
   "id": "c4ea1ddb",
   "metadata": {},
   "source": [
    "### 5.1. Некоторые пользователи установили приложение по ссылке из yandex, другие — из google. \n",
    "* Нулевая гипотеза: Две группы пользователей из yandex и из google не имеют статистической разницы в конверсиях в просмотры контактов. \n",
    "* Альтернативная гипотеза: две эти группы имеют статистическую разницу в конверсиях в просмотры контактов"
   ]
  },
  {
   "cell_type": "code",
   "execution_count": 57,
   "id": "77c0cd2a",
   "metadata": {},
   "outputs": [
    {
     "data": {
      "text/html": [
       "<div>\n",
       "<style scoped>\n",
       "    .dataframe tbody tr th:only-of-type {\n",
       "        vertical-align: middle;\n",
       "    }\n",
       "\n",
       "    .dataframe tbody tr th {\n",
       "        vertical-align: top;\n",
       "    }\n",
       "\n",
       "    .dataframe thead th {\n",
       "        text-align: right;\n",
       "    }\n",
       "</style>\n",
       "<table border=\"1\" class=\"dataframe\">\n",
       "  <thead>\n",
       "    <tr style=\"text-align: right;\">\n",
       "      <th></th>\n",
       "      <th>users_show</th>\n",
       "      <th>users_group</th>\n",
       "      <th>percent</th>\n",
       "    </tr>\n",
       "    <tr>\n",
       "      <th>source</th>\n",
       "      <th></th>\n",
       "      <th></th>\n",
       "      <th></th>\n",
       "    </tr>\n",
       "  </thead>\n",
       "  <tbody>\n",
       "    <tr>\n",
       "      <th>google</th>\n",
       "      <td>275</td>\n",
       "      <td>1129</td>\n",
       "      <td>24.36</td>\n",
       "    </tr>\n",
       "    <tr>\n",
       "      <th>yandex</th>\n",
       "      <td>478</td>\n",
       "      <td>1934</td>\n",
       "      <td>24.72</td>\n",
       "    </tr>\n",
       "  </tbody>\n",
       "</table>\n",
       "</div>"
      ],
      "text/plain": [
       "        users_show  users_group  percent\n",
       "source                                  \n",
       "google         275         1129    24.36\n",
       "yandex         478         1934    24.72"
      ]
     },
     "execution_count": 57,
     "metadata": {},
     "output_type": "execute_result"
    }
   ],
   "source": [
    "# составлю сводную таблицу по каналам установки приложения\n",
    "results = df.query('source != \"other\" & event_name == \"show_contacts\"').groupby('source').agg({'user_id': 'nunique'})\n",
    "results.columns = ['users_show']\n",
    "results['users_group'] = df.query('source != \"other\"').groupby('source').agg({'user_id': 'nunique'})\n",
    "results['percent'] = ((results['users_show'] / results['users_group']) * 100).round(2)\n",
    "results"
   ]
  },
  {
   "cell_type": "code",
   "execution_count": 58,
   "id": "2b3b8929",
   "metadata": {},
   "outputs": [],
   "source": [
    "# напишу функцию для расчета Z-критерия\n",
    "def z_test (results, group_1, group_2):\n",
    "    # пропорция успехов в первой группе:\n",
    "    p1 = results.loc[group_1,'users_show']/results.loc[group_1,'users_group']\n",
    "    # пропорция успехов во второй группе:\n",
    "    p2 = results.loc[group_2,'users_show']/results.loc[group_2,'users_group']\n",
    "    # пропорция успехов в комбинированном датасете:\n",
    "    p_combined = ((results.loc[group_1,'users_show'] + results.loc[group_2,'users_show']) / \n",
    "              (results.loc[group_1,'users_group'] + results.loc[group_2,'users_group']))\n",
    "    # разница пропорций в датасетах\n",
    "    difference = p1 - p2 \n",
    "    # считаю статистику в ст.отклонениях стандартного нормального распределения\n",
    "    z_value = (difference / mth.sqrt(p_combined * (1 - p_combined) * (1/results.loc[group_1,'users_group'] \n",
    "                                                                 + 1/results.loc[group_2,'users_group'])))\n",
    "    # задаю стандартное нормальное распределение (среднее 0, ст.отклонение 1)\n",
    "    distr = st.norm(0, 1)  \n",
    "    p_value = (1 - distr.cdf(abs(z_value))) * 2\n",
    "    print('p-значение: ', p_value)\n",
    "\n",
    "    if p_value < alpha:\n",
    "        print('Отвергаем нулевую гипотезу: между долями есть значимая разница')\n",
    "    else:\n",
    "        print('Не получилось отвергнуть нулевую гипотезу, нет оснований считать доли разными') "
   ]
  },
  {
   "cell_type": "code",
   "execution_count": 59,
   "id": "12bf4a7e",
   "metadata": {},
   "outputs": [
    {
     "name": "stdout",
     "output_type": "stream",
     "text": [
      "p-значение:  0.8244316027993777\n",
      "Не получилось отвергнуть нулевую гипотезу, нет оснований считать доли разными\n"
     ]
    }
   ],
   "source": [
    "# рассчитаю Z критерий для гипотезы\n",
    "alpha = 0.05\n",
    "z_test (results, 'google', 'yandex')"
   ]
  },
  {
   "cell_type": "markdown",
   "id": "b2c44847",
   "metadata": {},
   "source": [
    "Не получилось отвергнуть нулевую гипотезу - две группы пользователей из yandex и из google не имеют статистической разницы в конверсиях в просмотры контактов."
   ]
  },
  {
   "cell_type": "markdown",
   "id": "8882b866",
   "metadata": {},
   "source": []
  },
  {
   "cell_type": "markdown",
   "id": "e58764c8",
   "metadata": {},
   "source": [
    "### 5.2 Одни пользователи совершают действия tips_show и tips_click, другие — только tips_show.\n",
    "- Нулевая гипотеза: Две группы пользователей не имеют статистической разницы в конверсиях в просмотры контактов.\n",
    "- Альтернативная гипотеза: две эти группы имеют статистическую разницу в конверсиях в просмотры контактов."
   ]
  },
  {
   "cell_type": "code",
   "execution_count": 60,
   "id": "83d03f96",
   "metadata": {},
   "outputs": [
    {
     "data": {
      "text/html": [
       "<div>\n",
       "<style scoped>\n",
       "    .dataframe tbody tr th:only-of-type {\n",
       "        vertical-align: middle;\n",
       "    }\n",
       "\n",
       "    .dataframe tbody tr th {\n",
       "        vertical-align: top;\n",
       "    }\n",
       "\n",
       "    .dataframe thead th {\n",
       "        text-align: right;\n",
       "    }\n",
       "</style>\n",
       "<table border=\"1\" class=\"dataframe\">\n",
       "  <thead>\n",
       "    <tr style=\"text-align: right;\">\n",
       "      <th></th>\n",
       "      <th>users_group</th>\n",
       "      <th>users_show</th>\n",
       "      <th>percent</th>\n",
       "    </tr>\n",
       "    <tr>\n",
       "      <th>event_name</th>\n",
       "      <th></th>\n",
       "      <th></th>\n",
       "      <th></th>\n",
       "    </tr>\n",
       "  </thead>\n",
       "  <tbody>\n",
       "    <tr>\n",
       "      <th>tips_show+tips_click</th>\n",
       "      <td>2826</td>\n",
       "      <td>981</td>\n",
       "      <td>34.71</td>\n",
       "    </tr>\n",
       "  </tbody>\n",
       "</table>\n",
       "</div>"
      ],
      "text/plain": [
       "                      users_group  users_show  percent\n",
       "event_name                                            \n",
       "tips_show+tips_click         2826         981    34.71"
      ]
     },
     "execution_count": 60,
     "metadata": {},
     "output_type": "execute_result"
    }
   ],
   "source": [
    "# составляю сводную таблицу первой группы\n",
    "df_2 = df.query('event_name == [\"tips_show\", \"tips_click\", \"show_contacts\"]')\n",
    "\n",
    "results_2 = df_2.query('event_name != \"show_contacts\"')\n",
    "results_2 = results_2.replace(['tips_show', 'tips_click'], 'tips_show+tips_click')\n",
    "results_2 = results_2.groupby('event_name').agg({'user_id': 'nunique'})\n",
    "results_2.columns = ['users_group']\n",
    "results_2['users_show'] = df_2.query('event_name == \"show_contacts\"')['user_id'].nunique()\n",
    "\n",
    "results_2['percent'] = ((results_2['users_show'] / results_2['users_group']) * 100).round(2)\n",
    "results_2"
   ]
  },
  {
   "cell_type": "code",
   "execution_count": 61,
   "id": "eae3dbc1",
   "metadata": {},
   "outputs": [
    {
     "data": {
      "text/html": [
       "<div>\n",
       "<style scoped>\n",
       "    .dataframe tbody tr th:only-of-type {\n",
       "        vertical-align: middle;\n",
       "    }\n",
       "\n",
       "    .dataframe tbody tr th {\n",
       "        vertical-align: top;\n",
       "    }\n",
       "\n",
       "    .dataframe thead th {\n",
       "        text-align: right;\n",
       "    }\n",
       "</style>\n",
       "<table border=\"1\" class=\"dataframe\">\n",
       "  <thead>\n",
       "    <tr style=\"text-align: right;\">\n",
       "      <th></th>\n",
       "      <th>users_group</th>\n",
       "      <th>users_show</th>\n",
       "      <th>percent</th>\n",
       "    </tr>\n",
       "    <tr>\n",
       "      <th>event_name</th>\n",
       "      <th></th>\n",
       "      <th></th>\n",
       "      <th></th>\n",
       "    </tr>\n",
       "  </thead>\n",
       "  <tbody>\n",
       "    <tr>\n",
       "      <th>tips_show</th>\n",
       "      <td>2801</td>\n",
       "      <td>981</td>\n",
       "      <td>35.02</td>\n",
       "    </tr>\n",
       "  </tbody>\n",
       "</table>\n",
       "</div>"
      ],
      "text/plain": [
       "            users_group  users_show  percent\n",
       "event_name                                  \n",
       "tips_show          2801         981    35.02"
      ]
     },
     "execution_count": 61,
     "metadata": {},
     "output_type": "execute_result"
    }
   ],
   "source": [
    "# составляю своную таблицу второй группы\n",
    "results_3 = df_2.query('event_name == \"tips_show\"').groupby('event_name').agg({'user_id': 'nunique'})\n",
    "results_3.columns = ['users_group']\n",
    "df_3 = df_2.query('event_name != \"tips_click\"')\n",
    "results_3['users_show'] = df_3.query('event_name == \"show_contacts\"')['user_id'].nunique()\n",
    "results_3['percent'] = ((results_3['users_show'] / results_3['users_group']) * 100).round(2)\n",
    "results_3"
   ]
  },
  {
   "cell_type": "code",
   "execution_count": 62,
   "id": "b49562b4",
   "metadata": {},
   "outputs": [
    {
     "data": {
      "text/html": [
       "<div>\n",
       "<style scoped>\n",
       "    .dataframe tbody tr th:only-of-type {\n",
       "        vertical-align: middle;\n",
       "    }\n",
       "\n",
       "    .dataframe tbody tr th {\n",
       "        vertical-align: top;\n",
       "    }\n",
       "\n",
       "    .dataframe thead th {\n",
       "        text-align: right;\n",
       "    }\n",
       "</style>\n",
       "<table border=\"1\" class=\"dataframe\">\n",
       "  <thead>\n",
       "    <tr style=\"text-align: right;\">\n",
       "      <th></th>\n",
       "      <th>users_show</th>\n",
       "      <th>users_group</th>\n",
       "      <th>percent</th>\n",
       "    </tr>\n",
       "    <tr>\n",
       "      <th>event_name</th>\n",
       "      <th></th>\n",
       "      <th></th>\n",
       "      <th></th>\n",
       "    </tr>\n",
       "  </thead>\n",
       "  <tbody>\n",
       "    <tr>\n",
       "      <th>tips_show+tips_click</th>\n",
       "      <td>981</td>\n",
       "      <td>2826</td>\n",
       "      <td>34.71</td>\n",
       "    </tr>\n",
       "    <tr>\n",
       "      <th>tips_show</th>\n",
       "      <td>981</td>\n",
       "      <td>2801</td>\n",
       "      <td>35.02</td>\n",
       "    </tr>\n",
       "  </tbody>\n",
       "</table>\n",
       "</div>"
      ],
      "text/plain": [
       "                      users_show  users_group  percent\n",
       "event_name                                            \n",
       "tips_show+tips_click         981         2826    34.71\n",
       "tips_show                    981         2801    35.02"
      ]
     },
     "execution_count": 62,
     "metadata": {},
     "output_type": "execute_result"
    }
   ],
   "source": [
    "# объединяю две полученные таблицы для проведения z теста\n",
    "stat = pd.concat([results_2, results_3])\n",
    "stat[['users_show', 'users_group', 'percent']]\n",
    "new_stat = stat[['users_show', 'users_group', 'percent']]\n",
    "new_stat"
   ]
  },
  {
   "cell_type": "code",
   "execution_count": 63,
   "id": "d5585571",
   "metadata": {
    "scrolled": true
   },
   "outputs": [
    {
     "name": "stdout",
     "output_type": "stream",
     "text": [
      "p-значение:  0.8073489125242999\n",
      "Не получилось отвергнуть нулевую гипотезу, нет оснований считать доли разными\n"
     ]
    }
   ],
   "source": [
    "# рассчитаю Z критерий для гипотезы\n",
    "z_test (new_stat, 'tips_show+tips_click', 'tips_show')"
   ]
  },
  {
   "cell_type": "markdown",
   "id": "35e19400",
   "metadata": {},
   "source": [
    "Не получилось отвергнуть нулевую гипотезу -  Две группы пользователей не имеют статистической разницы в конверсиях в просмотры контактов​."
   ]
  },
  {
   "cell_type": "markdown",
   "id": "22a4b434",
   "metadata": {},
   "source": [
    "### 5.3 Одни пользователи совершают действия tips_show и tips_click, другие — search и advert_open.\n",
    "- Нулевая гипотеза: Две группы пользователей не имеют статистической разницы в конверсиях в просмотры контактов.\n",
    "- Альтернативная гипотеза: две эти группы имеют статистическую разницу в конверсиях в просмотры контактов."
   ]
  },
  {
   "cell_type": "code",
   "execution_count": 64,
   "id": "b8cfe2d4",
   "metadata": {},
   "outputs": [
    {
     "data": {
      "text/html": [
       "<div>\n",
       "<style scoped>\n",
       "    .dataframe tbody tr th:only-of-type {\n",
       "        vertical-align: middle;\n",
       "    }\n",
       "\n",
       "    .dataframe tbody tr th {\n",
       "        vertical-align: top;\n",
       "    }\n",
       "\n",
       "    .dataframe thead th {\n",
       "        text-align: right;\n",
       "    }\n",
       "</style>\n",
       "<table border=\"1\" class=\"dataframe\">\n",
       "  <thead>\n",
       "    <tr style=\"text-align: right;\">\n",
       "      <th></th>\n",
       "      <th>users_group</th>\n",
       "      <th>users_show</th>\n",
       "      <th>percent</th>\n",
       "    </tr>\n",
       "    <tr>\n",
       "      <th>event_name</th>\n",
       "      <th></th>\n",
       "      <th></th>\n",
       "      <th></th>\n",
       "    </tr>\n",
       "  </thead>\n",
       "  <tbody>\n",
       "    <tr>\n",
       "      <th>tips_show+tips_click</th>\n",
       "      <td>2826</td>\n",
       "      <td>981</td>\n",
       "      <td>34.71</td>\n",
       "    </tr>\n",
       "  </tbody>\n",
       "</table>\n",
       "</div>"
      ],
      "text/plain": [
       "                      users_group  users_show  percent\n",
       "event_name                                            \n",
       "tips_show+tips_click         2826         981    34.71"
      ]
     },
     "execution_count": 64,
     "metadata": {},
     "output_type": "execute_result"
    }
   ],
   "source": [
    "# сводная таблица первой группы\n",
    "results_2"
   ]
  },
  {
   "cell_type": "code",
   "execution_count": 65,
   "id": "6210a118",
   "metadata": {
    "scrolled": true
   },
   "outputs": [
    {
     "data": {
      "text/html": [
       "<div>\n",
       "<style scoped>\n",
       "    .dataframe tbody tr th:only-of-type {\n",
       "        vertical-align: middle;\n",
       "    }\n",
       "\n",
       "    .dataframe tbody tr th {\n",
       "        vertical-align: top;\n",
       "    }\n",
       "\n",
       "    .dataframe thead th {\n",
       "        text-align: right;\n",
       "    }\n",
       "</style>\n",
       "<table border=\"1\" class=\"dataframe\">\n",
       "  <thead>\n",
       "    <tr style=\"text-align: right;\">\n",
       "      <th></th>\n",
       "      <th>users_group</th>\n",
       "      <th>users_show</th>\n",
       "      <th>percent</th>\n",
       "    </tr>\n",
       "    <tr>\n",
       "      <th>event_name</th>\n",
       "      <th></th>\n",
       "      <th></th>\n",
       "      <th></th>\n",
       "    </tr>\n",
       "  </thead>\n",
       "  <tbody>\n",
       "    <tr>\n",
       "      <th>search+advert_open</th>\n",
       "      <td>2078</td>\n",
       "      <td>981</td>\n",
       "      <td>47.21</td>\n",
       "    </tr>\n",
       "  </tbody>\n",
       "</table>\n",
       "</div>"
      ],
      "text/plain": [
       "                    users_group  users_show  percent\n",
       "event_name                                          \n",
       "search+advert_open         2078         981    47.21"
      ]
     },
     "execution_count": 65,
     "metadata": {},
     "output_type": "execute_result"
    }
   ],
   "source": [
    "# сводная таблица второй группы\n",
    "df_4 = df.query('event_name == [\"search\", \"advert_open\", \"show_contacts\"]')\n",
    "results_4 = df_4.query('event_name != \"show_contacts\"')\n",
    "results_4 = results_4.replace(['search', 'advert_open'], 'search+advert_open')\n",
    "results_4 = results_4.groupby('event_name').agg({'user_id': 'nunique'})\n",
    "results_4.columns = ['users_group']\n",
    "results_4['users_show'] = df_4.query('event_name == \"show_contacts\"')['user_id'].nunique()\n",
    "\n",
    "results_4['percent'] = ((results_4['users_show'] / results_4['users_group']) * 100).round(2)\n",
    "results_4"
   ]
  },
  {
   "cell_type": "code",
   "execution_count": 66,
   "id": "2069a70b",
   "metadata": {
    "scrolled": true
   },
   "outputs": [
    {
     "data": {
      "text/html": [
       "<div>\n",
       "<style scoped>\n",
       "    .dataframe tbody tr th:only-of-type {\n",
       "        vertical-align: middle;\n",
       "    }\n",
       "\n",
       "    .dataframe tbody tr th {\n",
       "        vertical-align: top;\n",
       "    }\n",
       "\n",
       "    .dataframe thead th {\n",
       "        text-align: right;\n",
       "    }\n",
       "</style>\n",
       "<table border=\"1\" class=\"dataframe\">\n",
       "  <thead>\n",
       "    <tr style=\"text-align: right;\">\n",
       "      <th></th>\n",
       "      <th>users_show</th>\n",
       "      <th>users_group</th>\n",
       "      <th>percent</th>\n",
       "    </tr>\n",
       "    <tr>\n",
       "      <th>event_name</th>\n",
       "      <th></th>\n",
       "      <th></th>\n",
       "      <th></th>\n",
       "    </tr>\n",
       "  </thead>\n",
       "  <tbody>\n",
       "    <tr>\n",
       "      <th>tips_show+tips_click</th>\n",
       "      <td>981</td>\n",
       "      <td>2826</td>\n",
       "      <td>34.71</td>\n",
       "    </tr>\n",
       "    <tr>\n",
       "      <th>search+advert_open</th>\n",
       "      <td>981</td>\n",
       "      <td>2078</td>\n",
       "      <td>47.21</td>\n",
       "    </tr>\n",
       "  </tbody>\n",
       "</table>\n",
       "</div>"
      ],
      "text/plain": [
       "                      users_show  users_group  percent\n",
       "event_name                                            \n",
       "tips_show+tips_click         981         2826    34.71\n",
       "search+advert_open           981         2078    47.21"
      ]
     },
     "execution_count": 66,
     "metadata": {},
     "output_type": "execute_result"
    }
   ],
   "source": [
    "# объединяю две полученные таблицы для проведения z теста\n",
    "stat_2 = pd.concat([results_2, results_4])\n",
    "stat_2[['users_show', 'users_group', 'percent']]\n",
    "new_stat_2 = stat_2[['users_show', 'users_group', 'percent']]\n",
    "new_stat_2"
   ]
  },
  {
   "cell_type": "code",
   "execution_count": 67,
   "id": "c3aff362",
   "metadata": {},
   "outputs": [
    {
     "name": "stdout",
     "output_type": "stream",
     "text": [
      "p-значение:  0.0\n",
      "Отвергаем нулевую гипотезу: между долями есть значимая разница\n"
     ]
    }
   ],
   "source": [
    "# рассчитаю Z критерий для гипотезы\n",
    "z_test (new_stat_2, 'tips_show+tips_click', 'search+advert_open')"
   ]
  },
  {
   "cell_type": "markdown",
   "id": "0c98ee1b",
   "metadata": {},
   "source": [
    "Гипотеза о равенстве групп имеет статистически значимые различия, значит две группы пользователей имею разную конверсию в просмотры."
   ]
  },
  {
   "cell_type": "markdown",
   "id": "6f51b16e",
   "metadata": {},
   "source": [
    "## 6. Общий вывод и рекомендации"
   ]
  },
  {
   "cell_type": "markdown",
   "id": "d35bb161",
   "metadata": {},
   "source": [
    "**ОБЩИЙ ВЫВОД:**\n",
    "- Показатель Retention Rate для посетителей приложения за месяц падает. И с каждой новой когортой поведение пользователей меняется. Необходимо выяснить, какие именно факторы влияют на отток пользователей.\n",
    "- При расчете времени, которое пользователи проводят в приложении, за одну сессию я взала в расчет один день. Полагаю, что пользователь может искать нужную вещь с перерывом. За завтраком, в транспорте, в такси, во время перерыва на работе. И в конце концов находит то, что нужно. Так вот в среднем 1,8 сессии на пользователя за 4 недели, медиана - 1. Большенство (75%) посетило приложение 1-2 раза в месяц. Но есть пользователи, которые заходят намного чаще. Самое большое количество дней - 25.\n",
    "- Середняя сессия длится 1:23:02, а медиана всего почти 12 минут. Такая разница говорит о том, что большая часть сессий короткие, до 1 часа (75% всех сессий длительность до 00:48:45) и 10% сессий от 4 часов 18 минут. При этом совершая в среднем 9,5 событий за сессию (медиана 11). Для специфики приложения это нормальный результат - примерно за это время пользователь может найти то, что его интресует, рассмотреть варианты и принять решение о покупке. \n",
    "- Событий с нулевой длительностью - 994 штук. Из них лидируют `tips_show` (пользователь увидел рекомендованные объявления) - 392 нулевые сессии, `photos_show` (просмотр фотографий в объявлении) - 248 нлевой сессии и `search` (поиск по сайту) - 194 нулевые сессии.\n",
    "- Самое высокопосещаемое событие - `tips_show` (пользователь увидел рекомендованные объявления). Их посмотрели за месяц 40055 раз. На основе этого можно предположить, что на главной странице пользователь видит рекомендованные объявления. Однако, количество события `tips_click` (пользователь кликнул по рекомендованному объявлению) настолько мало - 814 кликов, что это может говорить о том, что рекомендации не очень интересны пользователям. \n",
    "- А при сравнении событий `search` (поиск по сайту) и `advert_open` (открытие карточки объявления) видно, что поиск более популярен среди пользователей. \n",
    "- На втором месте по посещаемости занимает событие `photos_show` (просмотр фотографий в объявлении). Это говорит о том, что пользователи любят просматривать фотографии.\n",
    "- Затем с примерно одинаковыми показателями следуют события `show_contacts` (пользователь нажал на кнопку \"посмотреть номер телефона\" на карточке объявления) и  `map` (пользователь открыл карту размещенных объявлений).\n",
    "- Также следует отметить, что пользователи чаще просматривают контакты, чем совершают звонки через приложение. У события `contacts_call` (пользователь позвонил по номеру телефона на карточке объявления) самый низкий показатель. Возможно, пользователи либо звонят \"по-старинке\", или делятся контактом с родтвенниками.\n",
    "- График распределения событий по дням так же показыввает интерес пользователей к фотографиям. Поиск тоже очень популярен. А кликают по рекомендованным объявлением не охотно. Особо выделяется первый день исследуемого периода - 07-10-2019, когда событие \"просмотр объявлений\" показывает особо высокий уровень.\n",
    "- Также можно отметить рост активности пользователей до 26 октября 2019 года и далее резкий провал на 6 дней.\n",
    "- Что касается нашего целевого события `show_contacts` (пользователь нажал на кнопку \"посмотреть номер телефона\" на карточке объявления), то оно показывает рост на второй неделе и держит показатель примерно на одном уровне, за исключением 4 дней.\n",
    "- Конверсия в целевое событие по пользователям показывает, что велико количество пользователей с 0 конверсией.\n",
    "- По полученным рультатам до целевого события - просмотр контактов, доходят 22.85% от всех пользователей. Не очень хороший показатель, так как почти 77% это просто зрители. Какие могут быть причины?\n",
    "    - не находит нужного объявления, значит необходимо привлечение новых пользователей;\n",
    "    - при таком огромном количестве просмотров рекондаций, вполне вероятно, что пользователь листает ленту и забывает зачем пришёл в приложение;\n",
    "    - при самостоятельном поиске пользователь охотнее просматривает контакты продаца, но поиском воспользовались мало человек. Возможно поиск \"спрятан\" и его необходимо перенести в видное место."
   ]
  },
  {
   "cell_type": "markdown",
   "id": "33c66624",
   "metadata": {},
   "source": [
    "Для более глубокого анализа я сегментировала посетителей по времени активности в приложении. Для катигоризации использовала данные о первом посещении. В итоге распределение по группам получилось не слишком разрозненным. Самая маленькая группа НОЧЬ больше, чем 10% от самой большой группы - ДЕНЬ.\n",
    "- Retention Rate группы утренних пользователей показывает самый плохой показатель. На второй неделе возвращаются 17.2%-22.7% пользователей, а на четвертой всего 9.8%. Самые высокие показатели возвращаемости показывают ночные пользователи. Вторая неделя - 25.0%-32.4%, на четвертой неделе удерживается 17.5%. Интересная вечерняя группа. На второй неделе показатели не плохи (23.1%-26.8%), но на четвертой неделе самый худший показатель - 8.3%.\n",
    "- По конверсии в целевое действие самый высокий показатель показала группа дневных пользователей - 24.52%. Немного поменьше утренняя группа - 23.22% и вечерняя - 21.33%. Самый низкий показатель у ночной группы - 18.10%.\n",
    "    \n",
    "Первая гипотеза: Некоторые пользователи установили приложение по ссылке из yandex, другие — из google.\n",
    "- Нулевая гипотеза: Две группы пользователей из yandex и из google не имеют статистической разницы в конверсиях в просмотры контактов.\n",
    "- Альтернативная гипотеза: две эти группы имеют статистическую разницу в конверсиях в просмотры контактов.    \n",
    "Проверка гипотезы о равенстве групп показала, что мы не можем отвергнуть нулевую гипотезу (не имеют статистической разницы в конверсиях в просмотры контактов), нет оснований считать группы разными.\n",
    "\n",
    "Вторая гипотеза: Одни пользователи совершают действия `tips_show` и `tips_click`, другие — только `tips_show`.\n",
    "- Нулевая гипотеза: Две группы пользователей не имеют статистической разницы в конверсиях в просмотры контактов.\n",
    "- Альтернативная гипотеза: две эти группы имеют статистическую разницу в конверсиях в просмотры контактов.\n",
    "Проверка гипотезы о равенстве групп показала, что мы не можем отвергнуть нулевую гипотезу (две группы пользователей не имеют статистической разницы в конверсиях в просмотры контактов), нет оснований считать группы разными.\n",
    "\n",
    "Третья гипотеза: Одни пользователи совершают действия `tips_show` и `tips_click`, другие — `search` и `advert_open`.\n",
    "- Нулевая гипотеза: Две группы пользователей не имеют статистической разницы в конверсиях в просмотры контактов.\n",
    "- Альтернативная гипотеза: две эти группы имеют статистическую разницу в конверсиях в просмотры контактов.\n",
    "Проверка гипотезы о равенстве групп показала, что мы можем отвергнуть нулевую гипотезу (две группы пользователей не имеют статистической разницы в конверсиях в просмотры контактов), есть основания считать группы разными."
   ]
  },
  {
   "cell_type": "markdown",
   "id": "95e9e5f1",
   "metadata": {
    "scrolled": true
   },
   "source": [
    "**РЕКОМЕНДАЦИИ:**\n",
    "- Поиск более популярен среди пользователей, а по рекомендованным объявлением кликают не охотно. Также очень важно, что при самостоятельном поиске пользователь охотнее просматривает контакты продавца (это подтвертилось проверкой третьей гипотезы), но поиском воспользовались мало человек. Возможно поиск \"спрятан\" и его необходимо перенести в видное место.\n",
    "- До целевого события - просмотр контактов, доходят 22.85% от всех пользователей. Не очень хороший показатель, так как почти 77% это просто зрители. Возможно они просто не находят нужного объявления, значит необходимо привлечение новых пользователей, которые будут размещать объявления о продажи.\n",
    "- При таком огромном количестве просмотров рекомендаций, вполне вероятно, что пользователь листает ленту и забывает зачем пришёл в приложение. Можно рекомендовать ограничить ленту и показывать только несколько варантов одной категории товаров.\n",
    "- Целевую группу по Retention Rate рекомендую выбрать вечернюю. У неё хороший показатель на второй неделе, но на четвертой самый низкий показатель. Группе вечерних пользователей рекомендую рассылать пуш-уведомления. Альтернативная группа - утреняя. пользователи этой группы неохотно возвращаются в приложение. Им тоже рассылаем пуш-уведомления.\n",
    "- Целевую группу по конверсии в целевое событие рекомендую выбрать утреннюю. Предлагаю отправлять пуш-уведомления о появлении новых объявлений из группы поиска и/или напоминание об избранном. Альтернативная группа - вечерняя. "
   ]
  }
 ],
 "metadata": {
  "ExecuteTimeLog": [
   {
    "duration": 1175,
    "start_time": "2023-04-06T17:54:42.545Z"
   },
   {
    "duration": 345,
    "start_time": "2023-04-06T17:54:43.722Z"
   },
   {
    "duration": 3,
    "start_time": "2023-04-06T17:54:44.069Z"
   },
   {
    "duration": 31,
    "start_time": "2023-04-06T17:54:44.088Z"
   },
   {
    "duration": 3,
    "start_time": "2023-04-06T17:54:44.121Z"
   },
   {
    "duration": 73,
    "start_time": "2023-04-06T17:54:44.125Z"
   },
   {
    "duration": 25,
    "start_time": "2023-04-06T17:54:44.200Z"
   },
   {
    "duration": 75,
    "start_time": "2023-04-06T17:54:44.226Z"
   },
   {
    "duration": 33,
    "start_time": "2023-04-06T17:54:44.302Z"
   },
   {
    "duration": 5,
    "start_time": "2023-04-06T17:54:44.337Z"
   },
   {
    "duration": 105,
    "start_time": "2023-04-06T17:54:44.343Z"
   },
   {
    "duration": 102,
    "start_time": "2023-04-06T17:54:44.449Z"
   },
   {
    "duration": 145,
    "start_time": "2023-04-06T17:54:44.552Z"
   },
   {
    "duration": 49,
    "start_time": "2023-04-06T17:54:44.700Z"
   },
   {
    "duration": 19,
    "start_time": "2023-04-06T17:54:44.751Z"
   },
   {
    "duration": 342,
    "start_time": "2023-04-06T17:54:44.784Z"
   },
   {
    "duration": 72,
    "start_time": "2023-04-06T17:54:45.128Z"
   },
   {
    "duration": 22,
    "start_time": "2023-04-06T17:54:45.201Z"
   },
   {
    "duration": 9,
    "start_time": "2023-04-06T17:54:45.225Z"
   },
   {
    "duration": 389,
    "start_time": "2023-04-06T17:54:45.236Z"
   },
   {
    "duration": 17,
    "start_time": "2023-04-06T17:54:45.627Z"
   },
   {
    "duration": 463,
    "start_time": "2023-04-06T17:54:45.645Z"
   },
   {
    "duration": 91,
    "start_time": "2023-04-06T17:54:46.110Z"
   },
   {
    "duration": 785,
    "start_time": "2023-04-06T17:54:46.204Z"
   },
   {
    "duration": 16,
    "start_time": "2023-04-06T17:54:46.991Z"
   },
   {
    "duration": 33,
    "start_time": "2023-04-06T17:54:47.009Z"
   },
   {
    "duration": 20,
    "start_time": "2023-04-06T17:54:47.044Z"
   },
   {
    "duration": 376,
    "start_time": "2023-04-06T17:54:47.068Z"
   },
   {
    "duration": 7,
    "start_time": "2023-04-06T17:54:47.447Z"
   },
   {
    "duration": 37,
    "start_time": "2023-04-06T17:54:47.456Z"
   },
   {
    "duration": 21,
    "start_time": "2023-04-06T17:54:47.495Z"
   },
   {
    "duration": 4,
    "start_time": "2023-04-06T17:54:47.517Z"
   },
   {
    "duration": 48,
    "start_time": "2023-04-06T17:54:47.523Z"
   },
   {
    "duration": 16,
    "start_time": "2023-04-06T17:54:47.573Z"
   },
   {
    "duration": 47,
    "start_time": "2023-04-06T17:54:47.595Z"
   },
   {
    "duration": 5,
    "start_time": "2023-04-06T17:54:47.644Z"
   },
   {
    "duration": 6,
    "start_time": "2023-04-06T17:54:47.651Z"
   },
   {
    "duration": 12,
    "start_time": "2023-04-06T17:54:47.658Z"
   },
   {
    "duration": 57,
    "start_time": "2023-04-06T17:54:47.672Z"
   },
   {
    "duration": 14,
    "start_time": "2023-04-06T17:54:47.731Z"
   },
   {
    "duration": 377,
    "start_time": "2023-04-06T17:54:47.747Z"
   },
   {
    "duration": 378,
    "start_time": "2023-04-06T17:54:48.126Z"
   },
   {
    "duration": 400,
    "start_time": "2023-04-06T17:54:48.507Z"
   },
   {
    "duration": 430,
    "start_time": "2023-04-06T17:54:48.909Z"
   },
   {
    "duration": 24,
    "start_time": "2023-04-06T17:54:49.341Z"
   },
   {
    "duration": 38,
    "start_time": "2023-04-06T17:54:49.367Z"
   },
   {
    "duration": 24,
    "start_time": "2023-04-06T17:54:49.407Z"
   },
   {
    "duration": 20,
    "start_time": "2023-04-06T17:54:49.433Z"
   },
   {
    "duration": 55,
    "start_time": "2023-04-06T17:54:49.454Z"
   },
   {
    "duration": 5,
    "start_time": "2023-04-06T17:54:49.511Z"
   },
   {
    "duration": 41,
    "start_time": "2023-04-06T17:54:49.518Z"
   },
   {
    "duration": 80,
    "start_time": "2023-04-06T17:54:49.560Z"
   },
   {
    "duration": 28,
    "start_time": "2023-04-06T17:54:49.642Z"
   },
   {
    "duration": 22,
    "start_time": "2023-04-06T17:54:49.672Z"
   },
   {
    "duration": 10,
    "start_time": "2023-04-06T17:54:49.698Z"
   },
   {
    "duration": 19,
    "start_time": "2023-04-06T17:54:49.709Z"
   },
   {
    "duration": 43,
    "start_time": "2023-04-06T17:54:49.730Z"
   },
   {
    "duration": 39,
    "start_time": "2023-04-06T17:54:49.774Z"
   },
   {
    "duration": 37,
    "start_time": "2023-04-06T17:54:49.817Z"
   },
   {
    "duration": 18,
    "start_time": "2023-04-06T18:03:42.125Z"
   },
   {
    "duration": 31,
    "start_time": "2023-04-06T18:04:05.369Z"
   },
   {
    "duration": 18,
    "start_time": "2023-04-06T18:04:20.820Z"
   },
   {
    "duration": 25,
    "start_time": "2023-04-06T18:04:27.972Z"
   },
   {
    "duration": 1465,
    "start_time": "2023-04-08T19:34:33.251Z"
   },
   {
    "duration": 322,
    "start_time": "2023-04-08T19:34:34.724Z"
   },
   {
    "duration": 3,
    "start_time": "2023-04-08T19:34:35.048Z"
   },
   {
    "duration": 39,
    "start_time": "2023-04-08T19:34:35.053Z"
   },
   {
    "duration": 10,
    "start_time": "2023-04-08T19:34:35.098Z"
   },
   {
    "duration": 74,
    "start_time": "2023-04-08T19:34:35.113Z"
   },
   {
    "duration": 40,
    "start_time": "2023-04-08T19:34:35.194Z"
   },
   {
    "duration": 94,
    "start_time": "2023-04-08T19:34:35.236Z"
   },
   {
    "duration": 34,
    "start_time": "2023-04-08T19:34:35.332Z"
   },
   {
    "duration": 5,
    "start_time": "2023-04-08T19:34:35.368Z"
   },
   {
    "duration": 133,
    "start_time": "2023-04-08T19:34:35.374Z"
   },
   {
    "duration": 115,
    "start_time": "2023-04-08T19:34:35.509Z"
   },
   {
    "duration": 163,
    "start_time": "2023-04-08T19:34:35.629Z"
   },
   {
    "duration": 70,
    "start_time": "2023-04-08T19:34:35.797Z"
   },
   {
    "duration": 38,
    "start_time": "2023-04-08T19:34:35.869Z"
   },
   {
    "duration": 414,
    "start_time": "2023-04-08T19:34:35.917Z"
   },
   {
    "duration": 79,
    "start_time": "2023-04-08T19:34:36.333Z"
   },
   {
    "duration": 34,
    "start_time": "2023-04-08T19:34:36.413Z"
   },
   {
    "duration": 13,
    "start_time": "2023-04-08T19:34:36.449Z"
   },
   {
    "duration": 366,
    "start_time": "2023-04-08T19:34:36.463Z"
   },
   {
    "duration": 621,
    "start_time": "2023-04-08T19:34:36.834Z"
   },
   {
    "duration": 9,
    "start_time": "2023-04-08T19:34:37.456Z"
   },
   {
    "duration": 726,
    "start_time": "2023-04-08T19:34:37.467Z"
   },
   {
    "duration": 24,
    "start_time": "2023-04-08T19:34:38.195Z"
   },
   {
    "duration": 615,
    "start_time": "2023-04-08T19:34:38.221Z"
   },
   {
    "duration": 15,
    "start_time": "2023-04-08T19:34:38.838Z"
   },
   {
    "duration": 4,
    "start_time": "2023-04-08T19:34:38.855Z"
   },
   {
    "duration": 57,
    "start_time": "2023-04-08T19:34:38.863Z"
   },
   {
    "duration": 24,
    "start_time": "2023-04-08T19:34:38.922Z"
   },
   {
    "duration": 312,
    "start_time": "2023-04-08T19:34:38.948Z"
   },
   {
    "duration": 32,
    "start_time": "2023-04-08T19:34:39.262Z"
   },
   {
    "duration": 494,
    "start_time": "2023-04-08T19:34:39.300Z"
   },
   {
    "duration": 27,
    "start_time": "2023-04-08T19:34:39.796Z"
   },
   {
    "duration": 21,
    "start_time": "2023-04-08T19:34:39.826Z"
   },
   {
    "duration": 16,
    "start_time": "2023-04-08T19:34:39.849Z"
   },
   {
    "duration": 356,
    "start_time": "2023-04-08T19:34:39.866Z"
   },
   {
    "duration": 7,
    "start_time": "2023-04-08T19:34:40.225Z"
   },
   {
    "duration": 17,
    "start_time": "2023-04-08T19:34:40.234Z"
   },
   {
    "duration": 11,
    "start_time": "2023-04-08T19:34:40.253Z"
   },
   {
    "duration": 3,
    "start_time": "2023-04-08T19:34:40.266Z"
   },
   {
    "duration": 58,
    "start_time": "2023-04-08T19:34:40.271Z"
   },
   {
    "duration": 15,
    "start_time": "2023-04-08T19:34:40.331Z"
   },
   {
    "duration": 45,
    "start_time": "2023-04-08T19:34:40.348Z"
   },
   {
    "duration": 8,
    "start_time": "2023-04-08T19:34:40.394Z"
   },
   {
    "duration": 47,
    "start_time": "2023-04-08T19:34:40.405Z"
   },
   {
    "duration": 9,
    "start_time": "2023-04-08T19:34:40.454Z"
   },
   {
    "duration": 77,
    "start_time": "2023-04-08T19:34:40.464Z"
   },
   {
    "duration": 15,
    "start_time": "2023-04-08T19:34:40.544Z"
   },
   {
    "duration": 366,
    "start_time": "2023-04-08T19:34:40.561Z"
   },
   {
    "duration": 497,
    "start_time": "2023-04-08T19:34:40.930Z"
   },
   {
    "duration": 389,
    "start_time": "2023-04-08T19:34:41.430Z"
   },
   {
    "duration": 409,
    "start_time": "2023-04-08T19:34:41.821Z"
   },
   {
    "duration": 18,
    "start_time": "2023-04-08T19:34:42.233Z"
   },
   {
    "duration": 24,
    "start_time": "2023-04-08T19:34:42.252Z"
   },
   {
    "duration": 42,
    "start_time": "2023-04-08T19:34:42.278Z"
   },
   {
    "duration": 56,
    "start_time": "2023-04-08T19:34:42.328Z"
   },
   {
    "duration": 57,
    "start_time": "2023-04-08T19:34:42.386Z"
   },
   {
    "duration": 5,
    "start_time": "2023-04-08T19:34:42.445Z"
   },
   {
    "duration": 17,
    "start_time": "2023-04-08T19:34:42.452Z"
   },
   {
    "duration": 74,
    "start_time": "2023-04-08T19:34:42.471Z"
   },
   {
    "duration": 30,
    "start_time": "2023-04-08T19:34:42.547Z"
   },
   {
    "duration": 15,
    "start_time": "2023-04-08T19:34:42.588Z"
   },
   {
    "duration": 33,
    "start_time": "2023-04-08T19:34:42.604Z"
   },
   {
    "duration": 12,
    "start_time": "2023-04-08T19:34:42.638Z"
   },
   {
    "duration": 33,
    "start_time": "2023-04-08T19:34:42.652Z"
   },
   {
    "duration": 15,
    "start_time": "2023-04-08T19:34:42.686Z"
   },
   {
    "duration": 5,
    "start_time": "2023-04-08T19:34:42.702Z"
   }
  ],
  "kernelspec": {
   "display_name": "Python 3 (ipykernel)",
   "language": "python",
   "name": "python3"
  },
  "language_info": {
   "codemirror_mode": {
    "name": "ipython",
    "version": 3
   },
   "file_extension": ".py",
   "mimetype": "text/x-python",
   "name": "python",
   "nbconvert_exporter": "python",
   "pygments_lexer": "ipython3",
   "version": "3.9.13"
  },
  "toc": {
   "base_numbering": 1,
   "nav_menu": {},
   "number_sections": true,
   "sideBar": true,
   "skip_h1_title": true,
   "title_cell": "Table of Contents",
   "title_sidebar": "Contents",
   "toc_cell": false,
   "toc_position": {},
   "toc_section_display": true,
   "toc_window_display": true
  }
 },
 "nbformat": 4,
 "nbformat_minor": 5
}
